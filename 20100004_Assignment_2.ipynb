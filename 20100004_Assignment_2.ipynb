{
 "cells": [
  {
   "cell_type": "markdown",
   "metadata": {},
   "source": [
    "# Programming Assignment 2: Linear Regression\n",
    "\n",
    "## Instructions\n",
    "\n",
    "- The aim of this assignment is to give you a hands-on with a real-life machine learning application.\n",
    "- Use separate training, and testing data as discussed in class.\n",
    "- You can only use Python programming language and Jupyter Notebooks.\n",
    "- There are three parts of this assignment. In parts 1 & 2, you can only use **numpy, scipy, pandas, matplotlib and are not allowed to use NLTK, scikit-learn or any other machine learning toolkit**. However, you have to use **scikit-learn** in part 3.\n",
    "- Carefully read the submission instructions, plagiarism and late days policy below.\n",
    "- Deadline to submit this assignment is: **Friday, 30th October 2020**.\n",
    "\n",
    "## Submission Instructions\n",
    "\n",
    "Submit your code both as notebook file (.ipynb) and python script (.py) on LMS. The name of both files should be your roll number. If you don’t know how to save .ipynb as .py [see this](https://i.stack.imgur.com/L1rQH.png). **Failing to submit any one of them will result in the reduction of marks**.\n",
    "\n",
    "## Plagiarism Policy\n",
    "\n",
    "The code MUST be done independently. Any plagiarism or cheating of work from others or the internet will be immediately referred to the DC. If you are confused about what constitutes plagiarism, it is YOUR responsibility to consult with the instructor or the TA in a timely manner. No “after the fact” negotiations will be possible. The only way to guarantee that you do not lose marks is “DO NOT LOOK AT ANYONE ELSE'S CODE NOR DISCUSS IT WITH THEM”.\n",
    "\n",
    "## Late Days Policy\n",
    "\n",
    "The deadline of the assignment is final. However, in order to accommodate all the 11th hour issues there is a late submission policy i.e. you can submit your assignment within 3 days after the deadline with 25% deduction each day.\n",
    "\n",
    "\n",
    "## Introduction\n",
    "\n",
    "In this exercise, you will implement linear regression and get to see it work on data. After completing this assignment, you will know:\n",
    "- How to implement linear regression from scratch.\n",
    "- How to estimate linear regression parameters using gradient descent.\n",
    "- How to make predictions on new data using learned parameters.\n",
    "\n",
    "Let's start with the necessary imports."
   ]
  },
  {
   "cell_type": "code",
   "execution_count": 1,
   "metadata": {},
   "outputs": [],
   "source": [
    "import os\n",
    "import numpy as np\n",
    "from matplotlib import pyplot\n",
    "%matplotlib inline"
   ]
  },
  {
   "cell_type": "markdown",
   "metadata": {},
   "source": [
    "## 1. Linear Regression with one variable\n",
    "\n",
    "Linear regression assumes a linear relationship between the input variables (X) and the single output variable (Y). More specifically, that output (Y) can be calculated from a linear combination of the input variables (X). When there is a single input variable, the method is referred to as a simple linear regression.\n",
    "\n",
    "Now you will implement simple linear regression to predict profits for a food truck. Suppose you are the CEO of a restaurant franchise and are considering different cities for opening a new outlet. The chain already has trucks in various cities and you have data for profits and populations from the cities. You would like to use this data to help you select which city to expand to next."
   ]
  },
  {
   "cell_type": "markdown",
   "metadata": {},
   "source": [
    "### 1.1 Load the dataset\n",
    "\n",
    "The file `Data/ex1data1.txt` contains the dataset for our linear regression problem. The first column is the population of a city (in 10,000s) and the second column is the profit of a food truck in that city (in $10,000s). A negative value for profit indicates a loss. \n",
    "\n",
    "We provide you with the code needed to load this data. The dataset is loaded from the data file into the variables `X` and `Y`."
   ]
  },
  {
   "cell_type": "code",
   "execution_count": 2,
   "metadata": {},
   "outputs": [],
   "source": [
    "data = np.loadtxt(os.path.join('Data', 'ex1data.txt'), delimiter=',')\n",
    "X, Y = data[:, 0], data[:, 1]"
   ]
  },
  {
   "cell_type": "markdown",
   "metadata": {},
   "source": [
    "### 1.2 Plot the dataset\n",
    "Before starting on any task, it is often useful to understand the data by visualizing it. For this dataset, you can use a scatter plot to visualize the data, since it has only two properties to plot (profit and population). Execute the next cell to visualize the data."
   ]
  },
  {
   "cell_type": "code",
   "execution_count": 3,
   "metadata": {},
   "outputs": [
    {
     "data": {
      "text/plain": [
       "Text(0.5, 0, 'Population of City in 10,000s')"
      ]
     },
     "execution_count": 3,
     "metadata": {},
     "output_type": "execute_result"
    },
    {
     "data": {
      "image/png": "[encoded data removed]",
      "text/plain": [
       "<Figure size 432x288 with 1 Axes>"
      ]
     },
     "metadata": {
      "needs_background": "light"
     },
     "output_type": "display_data"
    }
   ],
   "source": [
    "pyplot.plot(X, Y, 'ro', ms=10, mec='k')\n",
    "pyplot.ylabel('Profit in $10,000')\n",
    "pyplot.xlabel('Population of City in 10,000s')"
   ]
  },
  {
   "cell_type": "markdown",
   "metadata": {},
   "source": [
    "### 1.3 Learn the parameters\n",
    "In this part, you will fit the linear regression parameters $\\theta$ to the food truck dataset using gradient descent.\n",
    "\n",
    "The objective of linear regression is to minimize the cost function\n",
    "\n",
    "$$ J(\\theta) = \\frac{1}{2m} \\sum_{i=1}^m \\left( h_{\\theta}(x^{(i)}) - y^{(i)}\\right)^2 ------ (i)$$ \n",
    "\n",
    "where the hypothesis $h_\\theta(x)$ is given by the linear model\n",
    "$$ h_\\theta(x) = \\theta_0 + \\theta_1 x ------ (ii)$$\n",
    "\n",
    "The parameters of your model are the $\\theta_j$ values. These are\n",
    "the values you will adjust to minimize cost $J(\\theta)$. One way to do this is to\n",
    "use the batch gradient descent algorithm. In batch gradient descent, each\n",
    "iteration performs the update\n",
    "\n",
    "$$ \\theta_0 = \\theta_0 - \\alpha \\frac{1}{m} \\sum_{i=1}^m \\left( h_\\theta(x^{(i)}) - y^{(i)}\\right) ------ (iii)$$\n",
    "\n",
    "$$ \\theta_1 = \\theta_1 - \\alpha \\frac{1}{m} \\sum_{i=1}^m \\left( h_\\theta(x^{(i)}) - y^{(i)}\\right)x^{(i)} ------ (iv)$$\n",
    "\n",
    "With each step of gradient descent, your parameters $\\theta_j$ come closer to the optimal values that will achieve the lowest cost J($\\theta$).\n",
    "\n",
    "Let's start by implementing the hypothesis $h_\\theta(x)$."
   ]
  },
  {
   "cell_type": "code",
   "execution_count": 4,
   "metadata": {},
   "outputs": [],
   "source": [
    "### GRADED FUNCTION ###\n",
    "def predict(x, theta0, theta1):\n",
    "    '''\n",
    "    Calculates the hypothesis for any input sample `x` given the parameters `theta`.\n",
    "    \n",
    "    Arguments\n",
    "    ---------\n",
    "    x : float\n",
    "        The input sample.\n",
    "    \n",
    "    theta0 : float\n",
    "        The parameter for the regression function.\n",
    "        \n",
    "    theta1 : float\n",
    "        The parameter for the regression function.\n",
    "    \n",
    "    Returns\n",
    "    -------\n",
    "    h_x : float\n",
    "        The hypothesis for input sample.\n",
    "    \n",
    "    Hint(s)\n",
    "    -------\n",
    "    Compute equation (ii).\n",
    "    '''\n",
    "    # You need to return the following variable(s) correctly\n",
    "    h_x = theta0+theta1*x\n",
    "    \n",
    "    ### START CODE HERE ### (≈ 1 line of code)\n",
    "    \n",
    "    ### END CODE HERE ###\n",
    "    \n",
    "    return h_x"
   ]
  },
  {
   "cell_type": "markdown",
   "metadata": {},
   "source": [
    "Execute the next cell to verify your implementation."
   ]
  },
  {
   "cell_type": "code",
   "execution_count": 5,
   "metadata": {},
   "outputs": [
    {
     "name": "stdout",
     "output_type": "stream",
     "text": [
      "With x = 2, theta0 = 1.0, theta1 = 1.0\n",
      "Predicted Hypothesis h(x) = 3.00\n",
      "Expected hypothesis h(x) = 3.00\n",
      "\n"
     ]
    }
   ],
   "source": [
    "h_x = predict(x=2, theta0=1.0, theta1=1.0)\n",
    "print('With x = 2, theta0 = 1.0, theta1 = 1.0\\nPredicted Hypothesis h(x) = %.2f' % h_x)\n",
    "print(\"Expected hypothesis h(x) = 3.00\\n\")"
   ]
  },
  {
   "cell_type": "markdown",
   "metadata": {},
   "source": [
    "As you perform gradient descent to learn minimize the cost function  $J(\\theta)$, it is helpful to monitor the convergence by computing the cost. In this section, you will implement a function to calculate  $J(\\theta)$ so you can check the convergence of your gradient descent implementation."
   ]
  },
  {
   "cell_type": "code",
   "execution_count": 6,
   "metadata": {},
   "outputs": [],
   "source": [
    "### GRADED FUNCTION ###\n",
    "def computeCost(X, Y, theta0, theta1):\n",
    "    '''\n",
    "    Computes cost for linear regression. Computes the cost of using `theta` as the\n",
    "    parameter for linear regression to fit the data points in `X` and `Y`.\n",
    "    \n",
    "    Arguments\n",
    "    ---------\n",
    "    X : array\n",
    "        The input dataset of shape (m, ), where m is the number of training examples.\n",
    "    \n",
    "    Y : array\n",
    "        The values of the function at each data point. This is a vector of\n",
    "        shape (m, ), where m is the number of training examples.\n",
    "    \n",
    "    theta0 : float\n",
    "        The parameter for the regression function.\n",
    "        \n",
    "    theta1 : float\n",
    "        The parameter for the regression function.\n",
    "    \n",
    "    Returns\n",
    "    -------\n",
    "    J : float\n",
    "        The value of the regression cost function.\n",
    "    \n",
    "    Hint(s)\n",
    "    -------\n",
    "    Compute equation (i).\n",
    "    '''\n",
    "    # initialize some useful values\n",
    "    m = Y.size  # number of training examples\n",
    "    h_x = predict(X,theta0,theta1)\n",
    "    \n",
    "    # You need to return the following variable(s) correctly\n",
    "    J = 1/(2*m)*np.sum(np.square(h_x-Y))\n",
    "        \n",
    "    ### START CODE HERE ### (≈ 3-4 lines of code)\n",
    "    \n",
    "        \n",
    "    \n",
    "    \n",
    "    ### END CODE HERE ###\n",
    "    \n",
    "    return J"
   ]
  },
  {
   "cell_type": "markdown",
   "metadata": {},
   "source": [
    "Execute the next cell to verify your implementation."
   ]
  },
  {
   "cell_type": "code",
   "execution_count": 7,
   "metadata": {},
   "outputs": [
    {
     "name": "stdout",
     "output_type": "stream",
     "text": [
      "With theta0 = 1.0, theta1 = 1.0\n",
      "Predicted cost J = 10.27\n",
      "Expected cost J = 10.27\n",
      "\n"
     ]
    }
   ],
   "source": [
    "J = computeCost(X, Y, theta0=1.0, theta1=1.0)\n",
    "print('With theta0 = 1.0, theta1 = 1.0\\nPredicted cost J = %.2f' % J)\n",
    "print(\"Expected cost J = 10.27\\n\")"
   ]
  },
  {
   "cell_type": "markdown",
   "metadata": {},
   "source": [
    "Next, you will complete a function which implements gradient descent. The loop structure has been written for you, and you only need to supply the updates to parameters $\\theta_j$  within each iteration (epoch). \n",
    "\n",
    "The starter code for the function `gradientDescent` calls `computeCost` on every iteration and saves the cost to a `python` list. Assuming you have implemented `gradientDescent` and `computeCost` correctly, your value of $J(\\theta)$ should never increase, and should converge to a steady value by the end of the algorithm."
   ]
  },
  {
   "cell_type": "code",
   "execution_count": 8,
   "metadata": {},
   "outputs": [],
   "source": [
    "### GRADED FUNCTION ###\n",
    "def gradientDescent(X, Y, alpha, n_epoch):\n",
    "    \"\"\"\n",
    "    Performs gradient descent to learn `theta`. Updates `theta` by taking `n_epoch`\n",
    "    gradient steps with learning rate `alpha`.\n",
    "    \n",
    "    Arguments\n",
    "    ---------\n",
    "    X : array\n",
    "        The input dataset of shape (m, ), where m is the number of training examples.\n",
    "    \n",
    "    Y : array\n",
    "        The values of the function at each data point. This is a vector of\n",
    "        shape (m, ), where m is the number of training examples.\n",
    "    \n",
    "    alpha : float\n",
    "        The learning rate.\n",
    "    \n",
    "    n_epoch : int\n",
    "        The number of iterations for gradient descent. \n",
    "    \n",
    "    Returns\n",
    "    -------\n",
    "    theta0 : float\n",
    "        The parameter for the regression function.\n",
    "        \n",
    "    theta1 : float\n",
    "        The parameter for the regression function.\n",
    "    \n",
    "    J : list\n",
    "        A python list for the values of the cost function after each iteration.\n",
    "    \n",
    "    Hint(s)\n",
    "    -------\n",
    "    Compute equation (iii) and (iv).\n",
    "\n",
    "    While debugging, it can be useful to print out the values of \n",
    "    the cost function (computeCost) here.\n",
    "    \"\"\"\n",
    "    # initialize some useful values\n",
    "    m = Y.size  # number of training examples\n",
    "    J = list()  # list to store cost\n",
    "    \n",
    "    # You need to return the following variables correctly\n",
    "    theta0 = 0.0\n",
    "    theta1 = 0.0\n",
    "    \n",
    "    for epoch in range(n_epoch):\n",
    "        ### START CODE HERE ### (≈ 5-10 lines of code)\n",
    "        \n",
    "        h_x = predict(X,theta0,theta1)\n",
    "        \n",
    "        diff_0 = alpha*1/m*np.sum(h_x-Y)\n",
    "        diff_1 = alpha*1/m*np.sum((h_x-Y)*X)\n",
    "        \n",
    "        theta0 = theta0 - diff_0\n",
    "        theta1 = theta1 - diff_1\n",
    "        \n",
    "        \n",
    "        \n",
    "        \n",
    "        \n",
    "        \n",
    "        \n",
    "        \n",
    "        ### END CODE HERE ###\n",
    "\n",
    "        J.append(computeCost(X, Y, theta0, theta1))\n",
    "    return theta0, theta1, J"
   ]
  },
  {
   "cell_type": "markdown",
   "metadata": {},
   "source": [
    "Execute the next cell to verify your implementation."
   ]
  },
  {
   "cell_type": "code",
   "execution_count": 9,
   "metadata": {},
   "outputs": [
    {
     "name": "stdout",
     "output_type": "stream",
     "text": [
      "Predicted theta0 = -3.6303, theta1 = 1.1664, cost = 4.4834\n",
      "Expected theta0 = -3.6303, theta1 = 1.1664, cost = 4.4834\n"
     ]
    }
   ],
   "source": [
    "n_epoch = 1500\n",
    "alpha = 0.01\n",
    "\n",
    "theta0, theta1, J = gradientDescent(X ,Y, alpha, n_epoch)\n",
    "print('Predicted theta0 = %.4f, theta1 = %.4f, cost = %.4f' % (theta0, theta1, J[-1]))\n",
    "print('Expected theta0 = -3.6303, theta1 = 1.1664, cost = 4.4834')"
   ]
  },
  {
   "cell_type": "markdown",
   "metadata": {},
   "source": [
    "### 1.4 Plot the linear fit\n",
    "\n",
    "Use your learned parameters $\\theta_j$ to plot the linear fit."
   ]
  },
  {
   "cell_type": "code",
   "execution_count": 10,
   "metadata": {},
   "outputs": [
    {
     "data": {
      "text/plain": [
       "<matplotlib.legend.Legend at 0x2249a0f5b48>"
      ]
     },
     "execution_count": 10,
     "metadata": {},
     "output_type": "execute_result"
    },
    {
     "data": {
      "image/png": "[encoded data removed]",
      "text/plain": [
       "<Figure size 432x288 with 1 Axes>"
      ]
     },
     "metadata": {
      "needs_background": "light"
     },
     "output_type": "display_data"
    }
   ],
   "source": [
    "h_x = list()\n",
    "for x in X:\n",
    "    h_x.append(predict(x, theta0, theta1))\n",
    "pyplot.plot(X, Y, 'ro', ms=10, mec='k')\n",
    "pyplot.ylabel('Profit in $10,000')\n",
    "pyplot.xlabel('Population of City in 10,000s')\n",
    "pyplot.plot(X, h_x, '-')\n",
    "pyplot.legend(['Training data', 'Linear regression'])"
   ]
  },
  {
   "cell_type": "markdown",
   "metadata": {},
   "source": [
    "### 1.5 Make predictions\n",
    "\n",
    "Use your learned parameters $\\theta_j$ to make food truck profit predictions in areas with population of 40,000 and 65,000."
   ]
  },
  {
   "cell_type": "code",
   "execution_count": 11,
   "metadata": {},
   "outputs": [
    {
     "name": "stdout",
     "output_type": "stream",
     "text": [
      "For population = 40,000, predicted profit = $10351.58\n",
      "For population = 65,000, predicted profit = $39510.64\n"
     ]
    }
   ],
   "source": [
    "print('For population = 40,000, predicted profit = $%.2f' % (predict(4, theta0, theta1)*10000))\n",
    "print('For population = 65,000, predicted profit = $%.2f' % (predict(6.5, theta0, theta1)*10000))"
   ]
  },
  {
   "cell_type": "markdown",
   "metadata": {},
   "source": [
    "## 2. Multivariate Linear Regression\n",
    "\n",
    "Now, you will implement multivariate linear regression (from scratch) to predict the the median price of homes in a Boston suburb during the mid-1970s. To do this, you are given with the dataset that has 404 examples in the train set and 102 examples in test set. Each example has 13 input variables (features) and one output variable (price in $10,000s). Below is the description of input variables:\n",
    "\n",
    "- Per capita crime rate.\n",
    "- The proportion of residential land zoned for lots over 25,000 square feet.\n",
    "- The proportion of non-retail business acres per town.\n",
    "- Charles River dummy variable (= 1 if tract bounds river; 0 otherwise).\n",
    "- Nitric oxides concentration (parts per 10 million).\n",
    "- The average number of rooms per dwelling.\n",
    "- The proportion of owner-occupied units built before 1940.\n",
    "- Weighted distances to five Boston employment centers.\n",
    "- Index of accessibility to radial highways.\n",
    "- Full-value property-tax rate per $10,000.\n",
    "- Pupil-teacher ratio by town.\n",
    "- 1000 * (Bk - 0.63) ** 2 where Bk is the proportion of Black people by town.\n",
    "- Percentage lower status of the population.\n",
    "\n",
    "Each one of these input features is stored using a different scale. Some features are represented by a proportion between 0 and 1, other features are ranges between 1 and 12, some are ranges between 0 and 100, and so on. This is often the case with real-world data, and understanding how to explore and clean such data is an important skill to develop.\n",
    "\n",
    "A common way to normalize features that use different scales and ranges is:\n",
    "\n",
    "- Subtract the mean value of each feature from the dataset.\n",
    "- After subtracting the mean, additionally scale (divide) the feature values by their respective standard deviations.\n",
    "\n",
    "Note: We only use examples of the train set to estimate the mean and standard deviation.\n",
    "\n",
    "You have to follow exactly the same steps as above i.e. implement hypothesis, cost function and gradient descent for multivariate linear regression to learn parameters $\\theta$ using train set. Finally, report the cost (error) using your learned parameters $\\theta$ on test set. Expected Mean Square Error on this dataset is 11.5 - 12.5 approximately. \n",
    "\n",
    "We provide you with the code needed to load this dataset. The dataset is loaded from the data files into the variables `train_X`, `train_Y`, `test_X` and `test_Y`."
   ]
  },
  {
   "cell_type": "code",
   "execution_count": 12,
   "metadata": {},
   "outputs": [],
   "source": [
    "train_X = np.loadtxt(os.path.join('Data', 'ex2traindata.txt'))\n",
    "train_Y = np.loadtxt(os.path.join('Data', 'ex2trainlabels.txt'))\n",
    "test_X = np.loadtxt(os.path.join('Data', 'ex2testdata.txt'))\n",
    "test_Y = np.loadtxt(os.path.join('Data', 'ex2testlabels.txt'))"
   ]
  },
  {
   "cell_type": "code",
   "execution_count": 13,
   "metadata": {},
   "outputs": [
    {
     "data": {
      "text/plain": [
       "(404, 13)"
      ]
     },
     "execution_count": 13,
     "metadata": {},
     "output_type": "execute_result"
    }
   ],
   "source": [
    "train_X.shape"
   ]
  },
  {
   "cell_type": "code",
   "execution_count": 15,
   "metadata": {},
   "outputs": [
    {
     "name": "stdout",
     "output_type": "stream",
     "text": [
      "Expected Mean Square Error is: 11.597799627965387\n"
     ]
    }
   ],
   "source": [
    "''' Start your code of part 2 from here, add the new code cells as per your requirement. '''\n",
    "\n",
    "class LinearRegression(object):\n",
    "    \n",
    "    def __init__(self,train_X,train_Y,test_X,test_Y):\n",
    "        self.train_X = train_X\n",
    "        self.train_Y = train_Y\n",
    "        self.test_X = test_X\n",
    "        self.test_Y = test_Y\n",
    "        self.theetas = np.zeros((1,train_X.shape[1]))\n",
    "        self.b = np.zeros((1,1))\n",
    "        self.scaling()\n",
    "        self.loss = self.fit(self.train_X,self.train_Y)\n",
    "        #print(\"Loss=\",self.loss)\n",
    "        self.test(self.test_X,self.test_Y)\n",
    "    \n",
    "    \n",
    "    def scaling(self):\n",
    "        '''mean normalization'''\n",
    "        mean = np.mean(train_X,axis = 0) #axis= 0 represent column\n",
    "        std = np.std(train_X,axis=0) \n",
    "        self.train_X = (self.train_X-mean)/std\n",
    "        self.test_X = (self.test_X-mean)/std\n",
    "\n",
    "    def predict(self,X):\n",
    "        h_x = np.dot(self.theetas,X.T)+self.b\n",
    "        return h_x\n",
    "    \n",
    "    def fit(self,X,Y,alpha=0.1,n_epochs=3000):\n",
    "        \n",
    "        m = Y.shape[0]\n",
    "        J = list()\n",
    "        for epoch in range(n_epochs):\n",
    "            h_x = self.predict(X)\n",
    "            error = np.subtract(h_x,Y)\n",
    "            gradients = 1/m*np.matmul(error,X)\n",
    "            self.theetas = self.theetas-alpha*gradients\n",
    "            self.b = self.b-alpha/m*np.sum(error) #bias gradient calculates separately\n",
    "            loss = self.computeLoss(h_x,Y)\n",
    "            J.append(loss)\n",
    "        return J\n",
    "    def computeLoss(self,h_x,Y):\n",
    "        m = Y.shape[0]\n",
    "        J = 1/(2*m)*np.sum(np.square(h_x-Y))\n",
    "        return J\n",
    "            \n",
    "    def test(self,X,Y):\n",
    "        h_x = self.predict(X)\n",
    "        loss = self.computeLoss(h_x,Y)\n",
    "        print(\"Expected Mean Square Error is:\",loss)\n",
    "        \n",
    "ll = LinearRegression(train_X,train_Y,test_X,test_Y)\n",
    "ll.scaling()\n"
   ]
  },
  {
   "cell_type": "markdown",
   "metadata": {},
   "source": [
    "## 3. Regularized Linear Regression\n",
    "\n",
    "Now, you'll use the [scikit-learn](https://scikit-learn.org/stable/index.html) to implement [Linear Regression](https://scikit-learn.org/stable/modules/generated/sklearn.linear_model.LinearRegression.html), [Ridge](https://scikit-learn.org/stable/modules/generated/sklearn.linear_model.Ridge.html#sklearn.linear_model.Ridge), [Lasso](https://scikit-learn.org/stable/modules/generated/sklearn.linear_model.Lasso.html#sklearn.linear_model.Lasso), [Elastic Net](https://scikit-learn.org/stable/modules/generated/sklearn.linear_model.ElasticNet.html#sklearn.linear_model.ElasticNet) and apply them to Boston house pricing dataset (provided in part 2). Try out different values of regularization coefficient (known as alpha in scikit-learn) and use the [Mean Squared Error](https://scikit-learn.org/stable/modules/generated/sklearn.metrics.mean_squared_error.html) to report loss with each regression. Finally, plot the regularization coefficients alpha (x-axis) with learned parameters $\\theta$ (y-axis) for Ridge and Lasso. Please read [this blog](https://scienceloft.com/technical/understanding-lasso-and-ridge-regression/) to get better understanding of the desired plots."
   ]
  },
  {
   "cell_type": "code",
   "execution_count": 16,
   "metadata": {},
   "outputs": [],
   "source": [
    "from sklearn.linear_model import LinearRegression\n",
    "from sklearn.linear_model import Ridge\n",
    "from sklearn.linear_model import Lasso\n",
    "from sklearn.linear_model import ElasticNet\n",
    "from sklearn.metrics import mean_squared_error"
   ]
  },
  {
   "cell_type": "code",
   "execution_count": 17,
   "metadata": {},
   "outputs": [],
   "source": [
    "#As I did not change the orignal data scaling it to use for part 3 \n",
    "mean = np.mean(train_X,axis = 0) #axis= 0 represent column\n",
    "std = np.std(train_X,axis=0) \n",
    "train_X = (train_X-mean)/std\n",
    "test_X = (test_X-mean)/std"
   ]
  },
  {
   "cell_type": "code",
   "execution_count": 18,
   "metadata": {},
   "outputs": [
    {
     "data": {
      "text/plain": [
       "' Start your code of part 3 from here, add the new code cells as per your requirement. '"
      ]
     },
     "execution_count": 18,
     "metadata": {},
     "output_type": "execute_result"
    }
   ],
   "source": [
    "''' Start your code of part 3 from here, add the new code cells as per your requirement. '''"
   ]
  },
  {
   "cell_type": "code",
   "execution_count": 19,
   "metadata": {},
   "outputs": [
    {
     "name": "stdout",
     "output_type": "stream",
     "text": [
      "MSE for Linear Regression := 23.195599256422966\n",
      "MSE for Ridge Regression := 23.105483040456548\n",
      "MSE for Lasso Regression := 24.169260051110417\n",
      "MSE for Elastic Net Regression := 26.889176738407027\n",
      "\n"
     ]
    }
   ],
   "source": [
    "def reportMSE(model,name):\n",
    "    \n",
    "    model.fit(train_X,train_Y)\n",
    "    y_pred = model.predict(test_X)\n",
    "    \n",
    "   \n",
    "    \n",
    "    print(\"MSE for\",name,\":=\",mean_squared_error(test_Y,y_pred))\n",
    "    return model.coef_\n",
    "\n",
    "\n",
    "def calculateMSE():\n",
    "    model_name = [\"Linear Regression\",\"Ridge Regression\",\"Lasso Regression\",\"Elastic Net Regression\"]\n",
    "    models = [LinearRegression(),Ridge(),Lasso(),ElasticNet()]\n",
    "    \n",
    "    for i,model in enumerate(models):\n",
    "        \n",
    "       reportMSE(model,model_name[i])\n",
    "    print()\n",
    "calculateMSE()"
   ]
  },
  {
   "cell_type": "code",
   "execution_count": 20,
   "metadata": {},
   "outputs": [
    {
     "name": "stdout",
     "output_type": "stream",
     "text": [
      "Alpha:= 1e-05\n",
      "MSE for Ridge Regression := 23.195598319887\n",
      "[-1.10749182  1.35308942  0.027101    0.99435353 -2.40156519  2.39628784\n",
      "  0.21119509 -3.47121591  2.90814783 -1.95741796 -1.98298534  0.81955093\n",
      " -4.02739053]\n",
      "\n",
      "Alpha:= 0.0001\n",
      "MSE for Ridge Regression := 23.19558989109674\n",
      "[-1.10749077  1.3530875   0.02709868  0.99435378 -2.40156172  2.39628913\n",
      "  0.21119405 -3.47121256  2.90813869 -1.95740956 -1.98298433  0.81955099\n",
      " -4.02738879]\n",
      "\n",
      "Alpha:= 0.001\n",
      "MSE for Ridge Regression := 23.19550560649569\n",
      "[-1.10748033  1.35306835  0.02707541  0.99435629 -2.40152702  2.39630205\n",
      "  0.21118369 -3.47117903  2.9080473  -1.95732556 -1.9829742   0.81955163\n",
      " -4.02737138]\n",
      "\n",
      "Alpha:= 0.01\n",
      "MSE for Ridge Regression := 23.194663090479573\n",
      "[-1.10737589  1.3528769   0.02684288  0.99438142 -2.40118013  2.39643118\n",
      "  0.21108005 -3.47084382  2.9071337  -1.95648601 -1.98287297  0.81955803\n",
      " -4.0271973 ]\n",
      "\n",
      "Alpha:= 0.1\n",
      "MSE for Ridge Regression := 23.186270772751943\n",
      "[-1.10633425  1.35096778  0.02452778  0.99463097 -2.39771691  2.39771856\n",
      "  0.21004733 -3.46749436  2.89803309 -1.94812777 -1.98186271  0.81962204\n",
      " -4.02545894]\n",
      "\n",
      "Alpha:= 1\n",
      "MSE for Ridge Regression := 23.105483040456548\n",
      "[-1.09617853e+00  1.33240158e+00  2.36163129e-03  9.96960412e-01\n",
      " -2.36364456e+00  2.41020778e+00  2.00070026e-01 -3.43427327e+00\n",
      "  2.81042350e+00 -1.86812093e+00 -1.97196416e+00  8.20257578e-01\n",
      " -4.00831026e+00]\n",
      "\n",
      "Alpha:= 10\n",
      "MSE for Ridge Regression := 22.515069105316236\n",
      "[-1.01437942  1.18591669 -0.15047778  1.00869332 -2.07095696  2.50525981\n",
      "  0.12559201 -3.13018801  2.17497326 -1.31785564 -1.88889435  0.82546306\n",
      " -3.85530836]\n",
      "\n",
      "Alpha:= 100\n",
      "MSE for Ridge Regression := 21.981122689884437\n",
      "[-0.73149679  0.72920656 -0.41847096  0.92490027 -0.97648664  2.58907855\n",
      " -0.07058837 -1.65854877  0.66242605 -0.42308699 -1.52924974  0.78247836\n",
      " -2.98423742]\n",
      "\n",
      "Alpha:= 1000\n",
      "MSE for Ridge Regression := 38.19713195957408\n",
      "[-0.42548499  0.40911853 -0.44234819  0.40647311 -0.40270123  1.27039174\n",
      " -0.24616705 -0.12094304 -0.19481532 -0.38212671 -0.77200843  0.42924824\n",
      " -1.22406521]\n",
      "\n",
      "Alpha:= 10000\n",
      "MSE for Ridge Regression := 70.01726226304477\n",
      "[-0.11334282  0.11309342 -0.13932222  0.0596938  -0.12671248  0.22458345\n",
      " -0.10246389  0.06141688 -0.1047779  -0.12996854 -0.15722188  0.10434111\n",
      " -0.2337663 ]\n",
      "\n",
      "Alpha:= 1000000\n",
      "MSE for Ridge Regression := 83.53105568074409\n",
      "[-0.00140325  0.00140982 -0.00176704  0.00062651 -0.00162446  0.00252923\n",
      " -0.00134928  0.00093943 -0.00139121 -0.00166309 -0.00183266  0.00127535\n",
      " -0.00271129]\n",
      "\n",
      "Alpha:= 10000000\n",
      "MSE for Ridge Regression := 83.6928274010227\n",
      "[-1.40631151e-04  1.41299342e-04 -1.77129897e-04  6.26781203e-05\n",
      " -1.62855162e-04  2.53232387e-04 -1.35300146e-04  9.43180164e-05\n",
      " -1.39513128e-04 -1.66722856e-04 -1.83554609e-04  1.27797882e-04\n",
      " -2.71546090e-04]\n",
      "\n",
      "Alpha:= 1e-05\n",
      "MSE for Lasso Regression := 23.195448149447863\n",
      "[-1.10746543  1.35304333  0.02701419  0.99435532 -2.40148653  2.39630585\n",
      "  0.21114686 -3.47118651  2.90795262 -1.95722964 -1.98296017  0.81954268\n",
      " -4.0273684 ]\n",
      "\n",
      "Alpha:= 0.0001\n",
      "MSE for Lasso Regression := 23.194090744030714\n",
      "[-1.10722719  1.35262692  0.02622986  0.99437168 -2.40077572  2.39646893\n",
      "  0.21071199 -3.47091929  2.90618739 -1.95552665 -1.98273264  0.81946843\n",
      " -4.02716744]\n",
      "\n",
      "Alpha:= 0.001\n",
      "MSE for Lasso Regression := 23.18056713596705\n",
      "[-1.10484337  1.3484577   0.01840142  0.99453484 -2.39366537  2.39810374\n",
      "  0.20635914 -3.46823614  2.88854081 -1.93850612 -1.98045991  0.81872812\n",
      " -4.02515637]\n",
      "\n",
      "Alpha:= 0.01\n",
      "MSE for Lasso Regression := 23.034732031303065\n",
      "[-1.07964012  1.31074754 -0.          0.99356188 -2.34014497  2.41819957\n",
      "  0.16346364 -3.42653318  2.73361993 -1.80361579 -1.96376844  0.81258477\n",
      " -4.00924387]\n",
      "\n",
      "Alpha:= 0.1\n",
      "MSE for Lasso Regression := 22.259686676580454\n",
      "[-0.82907887  0.97036732 -0.06264117  0.97083792 -1.92114266  2.57771343\n",
      "  0.         -2.8817661   1.28613617 -0.56540689 -1.83358785  0.74186501\n",
      " -3.93682232]\n",
      "\n",
      "Alpha:= 1\n",
      "MSE for Lasso Regression := 24.169260051110417\n",
      "[-0.          0.         -0.          0.25313419 -0.          2.56582906\n",
      " -0.         -0.         -0.         -0.         -1.20507274  0.19885846\n",
      " -3.63678901]\n",
      "\n",
      "Alpha:= 10\n",
      "MSE for Lasso Regression := 83.71085929676252\n",
      "[-0.  0. -0.  0. -0.  0. -0.  0. -0. -0. -0.  0. -0.]\n",
      "\n",
      "Alpha:= 100\n",
      "MSE for Lasso Regression := 83.71085929676252\n",
      "[-0.  0. -0.  0. -0.  0. -0.  0. -0. -0. -0.  0. -0.]\n",
      "\n",
      "Alpha:= 1000\n",
      "MSE for Lasso Regression := 83.71085929676252\n",
      "[-0.  0. -0.  0. -0.  0. -0.  0. -0. -0. -0.  0. -0.]\n",
      "\n",
      "Alpha:= 10000\n",
      "MSE for Lasso Regression := 83.71085929676252\n",
      "[-0.  0. -0.  0. -0.  0. -0.  0. -0. -0. -0.  0. -0.]\n",
      "\n",
      "Alpha:= 1000000\n",
      "MSE for Lasso Regression := 83.71085929676252\n",
      "[-0.  0. -0.  0. -0.  0. -0.  0. -0. -0. -0.  0. -0.]\n",
      "\n",
      "Alpha:= 10000000\n",
      "MSE for Lasso Regression := 83.71085929676252\n",
      "[-0.  0. -0.  0. -0.  0. -0.  0. -0. -0. -0.  0. -0.]\n",
      "\n",
      "Alpha:= 1e-05\n",
      "MSE for Elastic Net Regression := 23.19533456878522\n",
      "[-1.10745524  1.35302351  0.0270055   0.99436005 -2.40144818  2.39632576\n",
      "  0.21114777 -3.47112616  2.90784562 -1.95713576 -1.98295008  0.81954824\n",
      " -4.02734049]\n",
      "\n",
      "Alpha:= 0.0001\n",
      "MSE for Elastic Net Regression := 23.1929551163147\n",
      "[-1.10712526  1.35242865  0.02614427  0.99441893 -2.40039245  2.39666812\n",
      "  0.21072099 -3.47031542  2.90511898 -1.9545899  -1.98263198  0.81952407\n",
      " -4.02688833]\n",
      "\n",
      "Alpha:= 0.001\n",
      "MSE for Elastic Net Regression := 23.16939083402117\n",
      "[-1.10383901  1.3465118   0.01760116  0.99499693 -2.38986226  2.40006909\n",
      "  0.20647871 -3.46221342  2.87806179 -1.92935825 -1.97946311  0.81928326\n",
      " -4.02238353]\n",
      "\n",
      "Alpha:= 0.01\n",
      "MSE for Elastic Net Regression := 22.94445612200168\n",
      "[-1.07159318  1.29275773 -0.02431158  0.99823211 -2.2989954   2.43438997\n",
      "  0.16650581 -3.37317992  2.63964967 -1.71882326 -1.95277133  0.8176695\n",
      " -3.98122914]\n",
      "\n",
      "Alpha:= 0.1\n",
      "MSE for Elastic Net Regression := 21.871036710411918\n",
      "[-0.84488882  0.93981405 -0.21903757  0.98298351 -1.63881657  2.62145927\n",
      "  0.         -2.59974461  1.2731667  -0.63183569 -1.76210119  0.79111579\n",
      " -3.67773494]\n",
      "\n",
      "Alpha:= 1\n",
      "MSE for Elastic Net Regression := 26.889176738407027\n",
      "[-0.38407859  0.2168602  -0.21144245  0.52127561 -0.30704873  2.2606841\n",
      " -0.         -0.04454165 -0.         -0.16623938 -1.19748355  0.49807665\n",
      " -2.38511686]\n",
      "\n",
      "Alpha:= 10\n",
      "MSE for Elastic Net Regression := 77.95630909042349\n",
      "[-0.          0.         -0.          0.         -0.          0.18417727\n",
      " -0.          0.         -0.         -0.         -0.          0.\n",
      " -0.2683475 ]\n",
      "\n",
      "Alpha:= 100\n",
      "MSE for Elastic Net Regression := 83.71085929676252\n",
      "[-0.  0. -0.  0. -0.  0. -0.  0. -0. -0. -0.  0. -0.]\n",
      "\n",
      "Alpha:= 1000\n",
      "MSE for Elastic Net Regression := 83.71085929676252\n",
      "[-0.  0. -0.  0. -0.  0. -0.  0. -0. -0. -0.  0. -0.]\n",
      "\n",
      "Alpha:= 10000\n",
      "MSE for Elastic Net Regression := 83.71085929676252\n",
      "[-0.  0. -0.  0. -0.  0. -0.  0. -0. -0. -0.  0. -0.]\n",
      "\n",
      "Alpha:= 1000000\n",
      "MSE for Elastic Net Regression := 83.71085929676252\n",
      "[-0.  0. -0.  0. -0.  0. -0.  0. -0. -0. -0.  0. -0.]\n",
      "\n",
      "Alpha:= 10000000\n",
      "MSE for Elastic Net Regression := 83.71085929676252\n",
      "[-0.  0. -0.  0. -0.  0. -0.  0. -0. -0. -0.  0. -0.]\n",
      "\n"
     ]
    }
   ],
   "source": [
    "def tryDifferentAlphas():\n",
    "    ridge_array = []\n",
    "    lasso_array = []\n",
    "    elastic_array = []\n",
    "    alphas = [0.00001,0.0001,0.001,0.01,0.1,1,10,100,1000,10000,1000000,10000000]\n",
    "    model_name = [\"Ridge Regression\",\"Lasso Regression\",\"Elastic Net Regression\"]\n",
    "    \n",
    "    for i in range(3):\n",
    "        for alpha in alphas:       \n",
    "            models = [Ridge(alpha=alpha),Lasso(alpha=alpha),ElasticNet(alpha=alpha)]\n",
    "            model = (models[i])\n",
    "            print(\"Alpha:=\",alpha)\n",
    "            coeff = reportMSE(model,model_name[i])\n",
    "            print(coeff)\n",
    "            print()\n",
    "            \n",
    "            if i==0:\n",
    "                ridge_array.append(coeff)\n",
    "            if i==1:\n",
    "                lasso_array.append(coeff)\n",
    "            if i==2:\n",
    "                elastic_array.append(coeff)\n",
    "    return np.array(ridge_array),np.array(lasso_array),np.array(elastic_array),np.log10(alphas)\n",
    "    \n",
    "ridge,lasso,elastic,alphas = tryDifferentAlphas()\n",
    "    "
   ]
  },
  {
   "cell_type": "code",
   "execution_count": 21,
   "metadata": {},
   "outputs": [],
   "source": [
    "labels = [\"crime\",\"zones\",\"nrb\",\"river\",\"noc\",\"avg num rooms\",\"built beofre 1940\",\"distance\",\"index\",\"tax rate\",\"pupil teacher ratio\",\"blacks\",\"lower status\"]"
   ]
  },
  {
   "cell_type": "code",
   "execution_count": 22,
   "metadata": {},
   "outputs": [],
   "source": [
    "def Plotplot(array,alphas):    \n",
    "    for i in range(13):\n",
    "        pyplot.xlabel(\"Log alphas\")\n",
    "        pyplot.ylabel(\"Coefficient values\")\n",
    "        pyplot.title(\"Variation of coefficient values wrt to log alphas\")\n",
    "        pyplot.plot(alphas,array[:,i])\n",
    "        pyplot.legend(labels,bbox_to_anchor=(1.05, 1), loc='upper left')\n",
    "    \n"
   ]
  },
  {
   "cell_type": "code",
   "execution_count": 23,
   "metadata": {},
   "outputs": [
    {
     "name": "stdout",
     "output_type": "stream",
     "text": [
      "Plot for ridge regression\n"
     ]
    },
    {
     "data": {
      "image/png": "[encoded data removed]",
      "text/plain": [
       "<Figure size 432x288 with 1 Axes>"
      ]
     },
     "metadata": {
      "needs_background": "light"
     },
     "output_type": "display_data"
    }
   ],
   "source": [
    "print(\"Plot for ridge regression\")\n",
    "Plotplot(ridge,alphas)"
   ]
  },
  {
   "cell_type": "code",
   "execution_count": 24,
   "metadata": {},
   "outputs": [
    {
     "name": "stdout",
     "output_type": "stream",
     "text": [
      "Plot for lasso regression\n"
     ]
    },
    {
     "data": {
      "image/png": "[encoded data removed]",
      "text/plain": [
       "<Figure size 432x288 with 1 Axes>"
      ]
     },
     "metadata": {
      "needs_background": "light"
     },
     "output_type": "display_data"
    }
   ],
   "source": [
    "print(\"Plot for lasso regression\")\n",
    "Plotplot(lasso,alphas)"
   ]
  },
  {
   "cell_type": "code",
   "execution_count": 25,
   "metadata": {},
   "outputs": [
    {
     "name": "stdout",
     "output_type": "stream",
     "text": [
      "Plot for elastic regression\n"
     ]
    },
    {
     "data": {
      "image/png": "[encoded data removed]",
      "text/plain": [
       "<Figure size 432x288 with 1 Axes>"
      ]
     },
     "metadata": {
      "needs_background": "light"
     },
     "output_type": "display_data"
    }
   ],
   "source": [
    "print(\"Plot for elastic regression\")\n",
    "Plotplot(elastic,alphas)"
   ]
  },
  {
   "cell_type": "code",
   "execution_count": null,
   "metadata": {},
   "outputs": [],
   "source": []
  }
 ],
 "metadata": {
  "kernelspec": {
   "display_name": "Python 3",
   "language": "python",
   "name": "python3"
  },
  "language_info": {
   "codemirror_mode": {
    "name": "ipython",
    "version": 3
   },
   "file_extension": ".py",
   "mimetype": "text/x-python",
   "name": "python",
   "nbconvert_exporter": "python",
   "pygments_lexer": "ipython3",
   "version": "3.7.4"
  }
 },
 "nbformat": 4,
 "nbformat_minor": 2
}
