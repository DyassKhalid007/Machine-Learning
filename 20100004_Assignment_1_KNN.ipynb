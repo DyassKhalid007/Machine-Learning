{
  "nbformat": 4,
  "nbformat_minor": 0,
  "metadata": {
    "kernelspec": {
      "display_name": "Python 3",
      "language": "python",
      "name": "python3"
    },
    "language_info": {
      "codemirror_mode": {
        "name": "ipython",
        "version": 3
      },
      "file_extension": ".py",
      "mimetype": "text/x-python",
      "name": "python",
      "nbconvert_exporter": "python",
      "pygments_lexer": "ipython3",
      "version": "3.7.4"
    },
    "colab": {
      "name": "20100004.ipynb",
      "provenance": [],
      "collapsed_sections": []
    }
  },
  "cells": [
    {
      "cell_type": "code",
      "metadata": {
        "id": "i8NOa9nTcWDn",
        "outputId": "864b61f4-abee-4a5d-aabe-abb6083c58ff",
        "colab": {
          "base_uri": "https://localhost:8080/",
          "height": 34
        }
      },
      "source": [
        "from google.colab import drive\n",
        "drive.mount('/content/drive')\n",
        "isCdir = False"
      ],
      "execution_count": 1,
      "outputs": [
        {
          "output_type": "stream",
          "text": [
            "Drive already mounted at /content/drive; to attempt to forcibly remount, call drive.mount(\"/content/drive\", force_remount=True).\n"
          ],
          "name": "stdout"
        }
      ]
    },
    {
      "cell_type": "code",
      "metadata": {
        "id": "FP3KBmVQVLmn"
      },
      "source": [
        "import os\n",
        "import numpy as np\n",
        "import pandas as pd\n",
        "import re #regex libraray\n",
        "import string #to remove punctuation\n",
        "from collections import Counter #to make knn more generic\n",
        "from scipy.spatial.distance import cdist\n",
        "import pickle\n",
        "from sklearn.metrics import accuracy_score\n",
        "from sklearn.metrics import classification_report\n",
        "from sklearn.metrics import confusion_matrix\n",
        "import matplotlib.pyplot as plt \n",
        "\n",
        "\n",
        "#Part 2\n",
        "from sklearn.neighbors import KNeighborsClassifier\n",
        "\n",
        "#part 3\n",
        "from gensim.models import KeyedVectors\n",
        "\n",
        "\n",
        "if not isCdir:\n",
        "  os.chdir(os.getcwd()+\"/drive/My Drive/Machine Learning/A1\")\n",
        "  isCdir = True\n"
      ],
      "execution_count": 2,
      "outputs": []
    },
    {
      "cell_type": "code",
      "metadata": {
        "id": "im4VasXcgpdv",
        "outputId": "dd833b98-d890-4ea4-fca1-5d024cd98aee",
        "colab": {
          "base_uri": "https://localhost:8080/",
          "height": 70
        }
      },
      "source": [
        "#Used in part 3\n",
        "word2vec = KeyedVectors.load_word2vec_format(\"GoogleNews-vectors-negative300.bin.gz\", binary=True)"
      ],
      "execution_count": 3,
      "outputs": [
        {
          "output_type": "stream",
          "text": [
            "/usr/local/lib/python3.6/dist-packages/smart_open/smart_open_lib.py:252: UserWarning: This function is deprecated, use smart_open.open instead. See the migration notes for details: https://github.com/RaRe-Technologies/smart_open/blob/master/README.rst#migrating-to-the-new-open-function\n",
            "  'See the migration notes for details: %s' % _MIGRATION_NOTES_URL\n"
          ],
          "name": "stderr"
        }
      ]
    },
    {
      "cell_type": "code",
      "metadata": {
        "id": "gLBH8B95VLmt"
      },
      "source": [
        "def loadData(fileName):\n",
        "    '''function to load data into a dataframe'''\n",
        "    \n",
        "    df = pd.read_csv(fileName)\n",
        "    return df"
      ],
      "execution_count": 4,
      "outputs": []
    },
    {
      "cell_type": "code",
      "metadata": {
        "id": "jf8bzrSiVLmy"
      },
      "source": [
        "def loadStopWords(filename):\n",
        "    '''function to remove stopwords'''\n",
        "    \n",
        "    stopWords = set()\n",
        "    with open(filename,'r') as file:\n",
        "        for word in file:\n",
        "            word = word.strip()\n",
        "            stopWords.add(word)\n",
        "    return stopWords\n",
        "           \n",
        "        \n",
        "    "
      ],
      "execution_count": 5,
      "outputs": []
    },
    {
      "cell_type": "code",
      "metadata": {
        "id": "GOzqkc-jVLm3"
      },
      "source": [
        "stopWords = loadStopWords(\"stop_words.txt\") #loading stopwrods"
      ],
      "execution_count": 6,
      "outputs": []
    },
    {
      "cell_type": "code",
      "metadata": {
        "id": "U2gw1uxlVLnC",
        "outputId": "5fc5cad5-3c37-41f6-d521-5e847564f984",
        "colab": {
          "base_uri": "https://localhost:8080/",
          "height": 195
        }
      },
      "source": [
        "#loading the training data and seeing the first five enteries\n",
        "trainSet = loadData(\"train.csv\")\n",
        "trainSet.head()"
      ],
      "execution_count": 7,
      "outputs": [
        {
          "output_type": "execute_result",
          "data": {
            "text/html": [
              "<div>\n",
              "<style scoped>\n",
              "    .dataframe tbody tr th:only-of-type {\n",
              "        vertical-align: middle;\n",
              "    }\n",
              "\n",
              "    .dataframe tbody tr th {\n",
              "        vertical-align: top;\n",
              "    }\n",
              "\n",
              "    .dataframe thead th {\n",
              "        text-align: right;\n",
              "    }\n",
              "</style>\n",
              "<table border=\"1\" class=\"dataframe\">\n",
              "  <thead>\n",
              "    <tr style=\"text-align: right;\">\n",
              "      <th></th>\n",
              "      <th>Sentiment</th>\n",
              "      <th>Tweet</th>\n",
              "    </tr>\n",
              "  </thead>\n",
              "  <tbody>\n",
              "    <tr>\n",
              "      <th>0</th>\n",
              "      <td>neutral</td>\n",
              "      <td>@united 877 from amsterdam to ewr, 02.27.2015,...</td>\n",
              "    </tr>\n",
              "    <tr>\n",
              "      <th>1</th>\n",
              "      <td>negative</td>\n",
              "      <td>@united IT-problems with the link? #3thparty</td>\n",
              "    </tr>\n",
              "    <tr>\n",
              "      <th>2</th>\n",
              "      <td>positive</td>\n",
              "      <td>@united -today the staff @ MSP took customer s...</td>\n",
              "    </tr>\n",
              "    <tr>\n",
              "      <th>3</th>\n",
              "      <td>negative</td>\n",
              "      <td>@AmericanAir but have been yet to receive assi...</td>\n",
              "    </tr>\n",
              "    <tr>\n",
              "      <th>4</th>\n",
              "      <td>negative</td>\n",
              "      <td>@SouthwestAir  you won't let me change my rese...</td>\n",
              "    </tr>\n",
              "  </tbody>\n",
              "</table>\n",
              "</div>"
            ],
            "text/plain": [
              "  Sentiment                                              Tweet\n",
              "0   neutral  @united 877 from amsterdam to ewr, 02.27.2015,...\n",
              "1  negative       @united IT-problems with the link? #3thparty\n",
              "2  positive  @united -today the staff @ MSP took customer s...\n",
              "3  negative  @AmericanAir but have been yet to receive assi...\n",
              "4  negative  @SouthwestAir  you won't let me change my rese..."
            ]
          },
          "metadata": {
            "tags": []
          },
          "execution_count": 7
        }
      ]
    },
    {
      "cell_type": "code",
      "metadata": {
        "id": "C_ESNHlBVLnG",
        "outputId": "38022514-41f7-47cc-975f-4016fa2352e6",
        "colab": {
          "base_uri": "https://localhost:8080/",
          "height": 195
        }
      },
      "source": [
        "#loading the testing data and seeing the first five enteries\n",
        "testSet = loadData(\"test.csv\")\n",
        "# testSet = testSet.sample(n=1000)\n",
        "testSet.head()"
      ],
      "execution_count": 8,
      "outputs": [
        {
          "output_type": "execute_result",
          "data": {
            "text/html": [
              "<div>\n",
              "<style scoped>\n",
              "    .dataframe tbody tr th:only-of-type {\n",
              "        vertical-align: middle;\n",
              "    }\n",
              "\n",
              "    .dataframe tbody tr th {\n",
              "        vertical-align: top;\n",
              "    }\n",
              "\n",
              "    .dataframe thead th {\n",
              "        text-align: right;\n",
              "    }\n",
              "</style>\n",
              "<table border=\"1\" class=\"dataframe\">\n",
              "  <thead>\n",
              "    <tr style=\"text-align: right;\">\n",
              "      <th></th>\n",
              "      <th>Sentiment</th>\n",
              "      <th>Tweet</th>\n",
              "    </tr>\n",
              "  </thead>\n",
              "  <tbody>\n",
              "    <tr>\n",
              "      <th>0</th>\n",
              "      <td>neutral</td>\n",
              "      <td>@VirginAmerica to jump into the Dallas-Austin ...</td>\n",
              "    </tr>\n",
              "    <tr>\n",
              "      <th>1</th>\n",
              "      <td>positive</td>\n",
              "      <td>@AmericanAir Chicago seen from seat 6A, AA 162...</td>\n",
              "    </tr>\n",
              "    <tr>\n",
              "      <th>2</th>\n",
              "      <td>negative</td>\n",
              "      <td>@united you need a bag bouncer. Get it together</td>\n",
              "    </tr>\n",
              "    <tr>\n",
              "      <th>3</th>\n",
              "      <td>negative</td>\n",
              "      <td>@JetBlue Hey Jetblue, you stranded an entire p...</td>\n",
              "    </tr>\n",
              "    <tr>\n",
              "      <th>4</th>\n",
              "      <td>negative</td>\n",
              "      <td>@USAirways Big fail on not having curbside bag...</td>\n",
              "    </tr>\n",
              "  </tbody>\n",
              "</table>\n",
              "</div>"
            ],
            "text/plain": [
              "  Sentiment                                              Tweet\n",
              "0   neutral  @VirginAmerica to jump into the Dallas-Austin ...\n",
              "1  positive  @AmericanAir Chicago seen from seat 6A, AA 162...\n",
              "2  negative    @united you need a bag bouncer. Get it together\n",
              "3  negative  @JetBlue Hey Jetblue, you stranded an entire p...\n",
              "4  negative  @USAirways Big fail on not having curbside bag..."
            ]
          },
          "metadata": {
            "tags": []
          },
          "execution_count": 8
        }
      ]
    },
    {
      "cell_type": "code",
      "metadata": {
        "id": "vdm6s5zKVLnK"
      },
      "source": [
        "stopWords = sorted(list(stopWords)) #converting the stopwords to a list and sorting them"
      ],
      "execution_count": 9,
      "outputs": []
    },
    {
      "cell_type": "code",
      "metadata": {
        "id": "28jpQTimVLnP"
      },
      "source": [
        "def preprocessing(text):\n",
        "    '''fnction to remove stop words,urls,usernames,punctuation'''\n",
        "    \n",
        "    #lowercasing the text \n",
        "    text = text.lower()\n",
        "    #removing url using it from nlp course \n",
        "    text = re.sub(r' https?://t\\.co/[A-Za-z0-9]{10}',\" \",text)\n",
        "    # print(text)\n",
        "    \n",
        "    #removing the @username\n",
        "    text = re.sub(r'@[0-9A-Za-z]*',\" \",text)\n",
        "    # print(text)\n",
        "    \n",
        "    #removing hashtags\n",
        "    text = re.sub(r'#[0-9A-Aa-z]*',\" \",text)\n",
        "    # print(text)\n",
        "    \n",
        "\n",
        "\n",
        "    #removing everything except alphabets\n",
        "    text = re.sub(\"[^a-zA-Z]\", \" \",text) \n",
        "    # print(text)\n",
        "\n",
        "    \n",
        "    #removing sopwords\n",
        "    for word in stopWords:\n",
        "        #removing stopwords using regex\n",
        "        regex = r'\\b'+word+r'\\b'\n",
        "        text = re.sub(regex,\" \",text)\n",
        "    \n",
        "    \n",
        "    #removing punctuations\n",
        "    for word in string.punctuation:\n",
        "        text = text.replace(word,\" \")\n",
        "    text = text.strip()\n",
        "    # print(text)\n",
        "    \n",
        "    return text\n",
        "    \n",
        "    \n",
        "    \n",
        "    "
      ],
      "execution_count": 10,
      "outputs": []
    },
    {
      "cell_type": "code",
      "metadata": {
        "id": "T5NsYw5aVLnU"
      },
      "source": [
        "trainSet['Tweet'] = trainSet['Tweet'].apply(preprocessing) #preprocessing the training data\n",
        "testSet['Tweet'] = testSet['Tweet'].apply(preprocessing) #preprocessing the testing data5"
      ],
      "execution_count": 11,
      "outputs": []
    },
    {
      "cell_type": "code",
      "metadata": {
        "id": "cfFgzrG9kObj",
        "outputId": "d2eab4eb-ed07-41fa-bda5-14989cf9ef65",
        "colab": {
          "base_uri": "https://localhost:8080/",
          "height": 168
        }
      },
      "source": [
        "def lookEmpty():\n",
        "  trainEmpty = []\n",
        "  testEmpty = []\n",
        "\n",
        "  for i,data in enumerate(trainSet['Tweet']):\n",
        "    if len(data)==0:\n",
        "      trainEmpty.append(i)\n",
        "  for j,data in enumerate(testSet['Tweet']):\n",
        "\n",
        "    if len(data)==0:\n",
        "      print(testSet['Tweet'][j])\n",
        "      print(data)\n",
        "      testEmpty.append(j)\n",
        "  return trainEmpty,testEmpty\n",
        "a,b = lookEmpty()\n",
        "a,b"
      ],
      "execution_count": 12,
      "outputs": [
        {
          "output_type": "stream",
          "text": [
            "\n",
            "\n",
            "\n",
            "\n",
            "\n",
            "\n",
            "\n",
            "\n"
          ],
          "name": "stdout"
        },
        {
          "output_type": "execute_result",
          "data": {
            "text/plain": [
              "([280, 4074, 4765, 5569, 7540, 8868, 9045], [500, 576, 1072, 2807])"
            ]
          },
          "metadata": {
            "tags": []
          },
          "execution_count": 12
        }
      ]
    },
    {
      "cell_type": "code",
      "metadata": {
        "id": "XV6VOTwDn6NY",
        "outputId": "789b90e7-2e34-4b5d-ef28-c3c75efafc7d",
        "colab": {
          "base_uri": "https://localhost:8080/",
          "height": 269
        }
      },
      "source": [
        "print(\"In Training data\")\n",
        "for i in a:\n",
        "  print(trainSet['Tweet'][i])\n",
        "  # print(preprocessing(trainSet['Tweet'][i]))\n",
        "print(\"In Testing data\")\n",
        "for i in b:\n",
        "  print(testSet['Tweet'][i])\n",
        "  # print(preprocessing(testSet['Tweet'][i])+\"end\")\n",
        "print(len(trainSet))\n",
        "print(len(testSet))"
      ],
      "execution_count": 13,
      "outputs": [
        {
          "output_type": "stream",
          "text": [
            "In Training data\n",
            "\n",
            "\n",
            "\n",
            "\n",
            "\n",
            "\n",
            "\n",
            "In Testing data\n",
            "\n",
            "\n",
            "\n",
            "\n",
            "11680\n",
            "2921\n"
          ],
          "name": "stdout"
        }
      ]
    },
    {
      "cell_type": "code",
      "metadata": {
        "id": "9eBZeqxJsMP9"
      },
      "source": [
        "trainSet.drop(index=a,labels=None, axis=0, inplace=True,columns=None, level=None, errors='raise')\n",
        "testSet.drop(index=b,labels=None, axis=0, inplace=True,columns=None, level=None, errors='raise')\n",
        "\n",
        "# trainSet.index\n"
      ],
      "execution_count": 14,
      "outputs": []
    },
    {
      "cell_type": "code",
      "metadata": {
        "id": "EmW1xJ9-4BO7",
        "outputId": "455b708d-1f76-4df0-bb85-276288e667f1",
        "colab": {
          "base_uri": "https://localhost:8080/",
          "height": 84
        }
      },
      "source": [
        "testSet.index"
      ],
      "execution_count": 15,
      "outputs": [
        {
          "output_type": "execute_result",
          "data": {
            "text/plain": [
              "Int64Index([   0,    1,    2,    3,    4,    5,    6,    7,    8,    9,\n",
              "            ...\n",
              "            2911, 2912, 2913, 2914, 2915, 2916, 2917, 2918, 2919, 2920],\n",
              "           dtype='int64', length=2917)"
            ]
          },
          "metadata": {
            "tags": []
          },
          "execution_count": 15
        }
      ]
    },
    {
      "cell_type": "code",
      "metadata": {
        "id": "KJuaB0TXyhGu"
      },
      "source": [
        "trainSet = trainSet.reset_index(drop=True)\n",
        "testSet = testSet.reset_index(drop=True)"
      ],
      "execution_count": 16,
      "outputs": []
    },
    {
      "cell_type": "code",
      "metadata": {
        "id": "1AjDoDEY1tTq",
        "outputId": "1bb8127e-cd53-47c7-b1ff-dc9bb96cae4e",
        "colab": {
          "base_uri": "https://localhost:8080/",
          "height": 34
        }
      },
      "source": [
        "trainSet.index"
      ],
      "execution_count": 17,
      "outputs": [
        {
          "output_type": "execute_result",
          "data": {
            "text/plain": [
              "RangeIndex(start=0, stop=11673, step=1)"
            ]
          },
          "metadata": {
            "tags": []
          },
          "execution_count": 17
        }
      ]
    },
    {
      "cell_type": "code",
      "metadata": {
        "id": "vjE8YQZfo9Ka",
        "outputId": "b87ab370-9f5a-4036-d547-34fb10553691",
        "colab": {
          "base_uri": "https://localhost:8080/",
          "height": 35
        }
      },
      "source": [
        "preprocessing(\"@AmericanAir flight delayed 3 times today due to flight officer. 4333 from pit to ord. 5 hour delay to date. #bademployeeproblem?\")"
      ],
      "execution_count": 18,
      "outputs": [
        {
          "output_type": "execute_result",
          "data": {
            "application/vnd.google.colaboratory.intrinsic+json": {
              "type": "string"
            },
            "text/plain": [
              "'flight delayed   times today due   flight officer         pit   ord    hour delay   date'"
            ]
          },
          "metadata": {
            "tags": []
          },
          "execution_count": 18
        }
      ]
    },
    {
      "cell_type": "code",
      "metadata": {
        "id": "JTDkbNK5VLnX",
        "outputId": "67c6d807-a56a-46bc-aa74-92865d16e45b",
        "colab": {
          "base_uri": "https://localhost:8080/",
          "height": 118
        }
      },
      "source": [
        "trainSet['Tweet'].head() #seeing the head of the processed training data "
      ],
      "execution_count": 19,
      "outputs": [
        {
          "output_type": "execute_result",
          "data": {
            "text/plain": [
              "0                                      amsterdam   ewr\n",
              "1                                    problems     link\n",
              "2    today   staff   msp took customer service     ...\n",
              "3    yet   receive assistance   one     agents   se...\n",
              "4    let   change   reservation online           wa...\n",
              "Name: Tweet, dtype: object"
            ]
          },
          "metadata": {
            "tags": []
          },
          "execution_count": 19
        }
      ]
    },
    {
      "cell_type": "code",
      "metadata": {
        "id": "DeC57aZSVLnb"
      },
      "source": [
        "def createDictionary(data):\n",
        "    '''function to create dictionary\n",
        "    data-> training data\n",
        "    returns a dictionary with word count of words whos lenght>2\n",
        "        as words of length 2 are usually stopwords\n",
        "    \n",
        "    '''\n",
        "    psudodict = {}\n",
        "   \n",
        "    for tweet in data:\n",
        "        tweet = tweet.split()\n",
        "        for words in tweet:\n",
        "            if words in psudodict.keys():\n",
        "                psudodict[words]+=1\n",
        "            elif len(words)>2:\n",
        "                psudodict[words]=1\n",
        "                \n",
        "            \n",
        "     \n",
        "    return psudodict"
      ],
      "execution_count": 20,
      "outputs": []
    },
    {
      "cell_type": "code",
      "metadata": {
        "id": "GbGRCWsHVLne"
      },
      "source": [
        "dictionary = createDictionary(trainSet['Tweet']) #obtaining disctionary only on the training data\n",
        "\n",
        "\n",
        "#creating an empty dictionary to create word vectors\n",
        "useDictionary = {k: 0 for v, k in enumerate(dictionary)}\n",
        "\n"
      ],
      "execution_count": 21,
      "outputs": []
    },
    {
      "cell_type": "code",
      "metadata": {
        "id": "nYC5Si3KVLni"
      },
      "source": [
        "def creatBagOfWords(data):\n",
        "    '''function to create bag of words representation\n",
        "        of training and testing data. \n",
        "        dictionary is created on training data \n",
        "        so words not in training data are ignored by the else block\n",
        "        \n",
        "        returns->BOW representation of the data '''\n",
        "    countList = []\n",
        "    for tweet in data:\n",
        "        tweet = tweet.split()\n",
        "        pseudoDict = useDictionary.copy()\n",
        "        for word in tweet:\n",
        "            if word in useDictionary.keys():\n",
        "                pseudoDict[word]+=1\n",
        "            else:\n",
        "                #words not in training set are ignored automatically \n",
        "                continue\n",
        "        countList.append((np.array(list(pseudoDict.values()))))\n",
        "    return np.array(countList)\n",
        "    \n",
        "            \n",
        "            \n",
        "    \n",
        "    "
      ],
      "execution_count": 22,
      "outputs": []
    },
    {
      "cell_type": "code",
      "metadata": {
        "id": "JGcKkiXaVLnm"
      },
      "source": [
        "#obtaining training and testing BOW representations and creating class labels->integer dictionary\n",
        "\n",
        "trainBOW = creatBagOfWords(trainSet['Tweet'])\n",
        "testBOW = creatBagOfWords(testSet['Tweet'])\n",
        "trainBOWArray = trainBOW\n",
        "testBOWArray = testBOW\n",
        "labelDict  ={'positive':1,'neutral':0,'negative':2}"
      ],
      "execution_count": 23,
      "outputs": []
    },
    {
      "cell_type": "code",
      "metadata": {
        "id": "iqVxgpEkVLnq"
      },
      "source": [
        "def convertLabels(data):\n",
        "    '''function to convert class labels(pos,neg,neut) into intergers'''\n",
        "    labelList = []\n",
        "    for label in data:\n",
        "        labelList.append(labelDict[label])\n",
        "    return labelList\n",
        "        "
      ],
      "execution_count": 24,
      "outputs": []
    },
    {
      "cell_type": "code",
      "metadata": {
        "id": "ElTvuWESVLnu"
      },
      "source": [
        "trainLabel = convertLabels(trainSet['Sentiment'])\n",
        "testLabel = convertLabels(testSet['Sentiment'])\n",
        "trainSet['label'] = trainLabel\n",
        "testSet['label'] = testLabel"
      ],
      "execution_count": 25,
      "outputs": []
    },
    {
      "cell_type": "code",
      "metadata": {
        "id": "kGu7fOHxVLnx",
        "outputId": "6f94e4a2-72ba-4374-f4c0-b2970c70b38c",
        "colab": {
          "base_uri": "https://localhost:8080/",
          "height": 402
        }
      },
      "source": [
        "testSet"
      ],
      "execution_count": 26,
      "outputs": [
        {
          "output_type": "execute_result",
          "data": {
            "text/html": [
              "<div>\n",
              "<style scoped>\n",
              "    .dataframe tbody tr th:only-of-type {\n",
              "        vertical-align: middle;\n",
              "    }\n",
              "\n",
              "    .dataframe tbody tr th {\n",
              "        vertical-align: top;\n",
              "    }\n",
              "\n",
              "    .dataframe thead th {\n",
              "        text-align: right;\n",
              "    }\n",
              "</style>\n",
              "<table border=\"1\" class=\"dataframe\">\n",
              "  <thead>\n",
              "    <tr style=\"text-align: right;\">\n",
              "      <th></th>\n",
              "      <th>Sentiment</th>\n",
              "      <th>Tweet</th>\n",
              "      <th>label</th>\n",
              "    </tr>\n",
              "  </thead>\n",
              "  <tbody>\n",
              "    <tr>\n",
              "      <th>0</th>\n",
              "      <td>neutral</td>\n",
              "      <td>jump     dallas austin market     news</td>\n",
              "      <td>0</td>\n",
              "    </tr>\n",
              "    <tr>\n",
              "      <th>1</th>\n",
              "      <td>positive</td>\n",
              "      <td>chicago seen   seat     aa         far   great...</td>\n",
              "      <td>1</td>\n",
              "    </tr>\n",
              "    <tr>\n",
              "      <th>2</th>\n",
              "      <td>negative</td>\n",
              "      <td>need   bag bouncer  get   together</td>\n",
              "      <td>2</td>\n",
              "    </tr>\n",
              "    <tr>\n",
              "      <th>3</th>\n",
              "      <td>negative</td>\n",
              "      <td>hey jetblue    stranded   entire plane     sup...</td>\n",
              "      <td>2</td>\n",
              "    </tr>\n",
              "    <tr>\n",
              "      <th>4</th>\n",
              "      <td>negative</td>\n",
              "      <td>big fail       curbside baggage   pittsburgh  ...</td>\n",
              "      <td>2</td>\n",
              "    </tr>\n",
              "    <tr>\n",
              "      <th>...</th>\n",
              "      <td>...</td>\n",
              "      <td>...</td>\n",
              "      <td>...</td>\n",
              "    </tr>\n",
              "    <tr>\n",
              "      <th>2912</th>\n",
              "      <td>negative</td>\n",
              "      <td>yet      next     terminal   customer service ...</td>\n",
              "      <td>2</td>\n",
              "    </tr>\n",
              "    <tr>\n",
              "      <th>2913</th>\n",
              "      <td>neutral</td>\n",
              "      <td>hope   pilot     good day</td>\n",
              "      <td>0</td>\n",
              "    </tr>\n",
              "    <tr>\n",
              "      <th>2914</th>\n",
              "      <td>negative</td>\n",
              "      <td>hold     hours         answer</td>\n",
              "      <td>2</td>\n",
              "    </tr>\n",
              "    <tr>\n",
              "      <th>2915</th>\n",
              "      <td>negative</td>\n",
              "      <td>come    already delayed    hrs   flight       ...</td>\n",
              "      <td>2</td>\n",
              "    </tr>\n",
              "    <tr>\n",
              "      <th>2916</th>\n",
              "      <td>negative</td>\n",
              "      <td>suck worst airline ever     never   flying    ...</td>\n",
              "      <td>2</td>\n",
              "    </tr>\n",
              "  </tbody>\n",
              "</table>\n",
              "<p>2917 rows × 3 columns</p>\n",
              "</div>"
            ],
            "text/plain": [
              "     Sentiment                                              Tweet  label\n",
              "0      neutral             jump     dallas austin market     news      0\n",
              "1     positive  chicago seen   seat     aa         far   great...      1\n",
              "2     negative                 need   bag bouncer  get   together      2\n",
              "3     negative  hey jetblue    stranded   entire plane     sup...      2\n",
              "4     negative  big fail       curbside baggage   pittsburgh  ...      2\n",
              "...        ...                                                ...    ...\n",
              "2912  negative  yet      next     terminal   customer service ...      2\n",
              "2913   neutral                          hope   pilot     good day      0\n",
              "2914  negative                      hold     hours         answer      2\n",
              "2915  negative  come    already delayed    hrs   flight       ...      2\n",
              "2916  negative  suck worst airline ever     never   flying    ...      2\n",
              "\n",
              "[2917 rows x 3 columns]"
            ]
          },
          "metadata": {
            "tags": []
          },
          "execution_count": 26
        }
      ]
    },
    {
      "cell_type": "markdown",
      "metadata": {
        "id": "XY3avyT0VLn1"
      },
      "source": [
        "# Part 1"
      ]
    },
    {
      "cell_type": "code",
      "metadata": {
        "id": "hpJRN6h7VLn2"
      },
      "source": [
        "class KNN(object):\n",
        "    def __init__(self,trainBOWArray,trainLabel,testBOWArray,testLabel,labelDict,k,isDone=True):\n",
        "        \n",
        "        self.XTrain = trainBOWArray\n",
        "        self.YTrain = trainLabel\n",
        "        self.XTest = testBOWArray\n",
        "        self.YTest = testLabel\n",
        "        self.Mapper = labelDict\n",
        "        self.k = k\n",
        "        self.labels = []\n",
        "        self.isDone = isDone\n",
        "        self.result = []\n",
        "        self.classificationDict = {}\n",
        "    def computeDistance(self,array):\n",
        "        '''function to calulate eucleidean distance\n",
        "        of array with training data'''\n",
        "        distanceVec = []\n",
        "        for vector in self.XTrain:\n",
        "#             print(np.shape(vector))\n",
        "#             print(np.shape(array))\n",
        "            \n",
        "           \n",
        "            dist = np.linalg.norm(vector-array)\n",
        "            distanceVec.append(dist)\n",
        "        return distanceVec\n",
        "    def doSorting(self,distanceVec,k):\n",
        "        '''function to get the sorted indexes up to k enteries'''\n",
        "        return np.argsort(distanceVec)[:k]\n",
        "    \n",
        "    def checkTie(self,labels):\n",
        "        '''function to check ties \n",
        "                returns true,-1 if ties is found\n",
        "                false,classLabel if no\n",
        "                tie is fond\n",
        "        '''\n",
        "        counter = Counter()\n",
        "        for _,v in self.Mapper.items():\n",
        "    \n",
        "            counter[v] = 0\n",
        "        \n",
        "        for label in labels:\n",
        "            counter[label]+=1\n",
        "            \n",
        "        values = counter.most_common(2)\n",
        "        \n",
        "        if values[0][1] == values[1][1]:\n",
        "            return True,-1\n",
        "        else:\n",
        "            return False,values[0][0]\n",
        "        \n",
        "    \n",
        "    def computeDistanceTest(self):\n",
        "        \n",
        "        self.labels = []\n",
        "        \n",
        "       \n",
        "        #if isDone is false computation will occure from scratch else already computed distances will be used\n",
        "        if not self.isDone:\n",
        "            \n",
        "            #calculating distance between testing data and training data\n",
        "\n",
        "            result = cdist(self.XTest,self.XTrain,metric=\"euclidean\")\n",
        "            #sorting indexes\n",
        "            result = np.argsort(result)\n",
        "            \n",
        "            #dumping the computed distances\n",
        "\n",
        "            if self.XTest[0].shape[0]==300:\n",
        "              with open('embeedings.pickle', 'wb') as handle:\n",
        "                pickle.dump(result, handle)\n",
        "            else:\n",
        "              with open('filename.pickle', 'wb') as handle:\n",
        "                pickle.dump(result, handle)\n",
        "\n",
        "            \n",
        "            \n",
        "            #setting the variale true so that future computations do not have to calculate it again\n",
        "            self.isDone=True\n",
        "        else:\n",
        "            \n",
        "            #loading the pre-computed distances\n",
        "\n",
        "\n",
        "            if self.XTest[0].shape[0]==300:\n",
        "              with open('embeedings.pickle', 'rb') as handle:\n",
        "                  result = pickle.load(handle)\n",
        "            else:\n",
        "              with open('filename.pickle', 'rb') as handle:\n",
        "                result = pickle.load(handle)\n",
        "        \n",
        "        #evaluating results and predicting its labels\n",
        "        for data in result:\n",
        "            isTie = True \n",
        "            k = self.k \n",
        "            label = -1\n",
        "            \n",
        "            #if a tie occured on k-nn it backs off to (k-1)nn until there is no tie\n",
        "            while isTie:\n",
        "             \n",
        "                labelsPredicted = trainSet['label'][data[:k]]\n",
        "                # print(labelsPredicted)\n",
        "                isTie,label = self.checkTie(labelsPredicted)\n",
        "                if isTie:\n",
        "                    k=k-1\n",
        "\n",
        "            self.labels.append(label)\n",
        "        \n",
        "        \n",
        "\n",
        "        self.labels = np.array(self.labels)\n",
        "#         acc = 0\n",
        "#         for val1,val2 in zip(self.labels,testLabel):\n",
        "#             if val1==val2==2:\n",
        "#                 acc+=1\n",
        "        \n",
        "        #printing k,accuracy and the general 3x3 confusion matrix\n",
        "        print(\"For k=\",self.k)\n",
        "        print(\"Accuracy:\",self.computeAccuracy(self.labels))\n",
        "        self.createConfusionGeneral()\n",
        "\n",
        "    \n",
        "            \n",
        "        return self.labels\n",
        "\n",
        "    \n",
        "    def computeAccuracy(self,labels):\n",
        "        '''function to compute accuracy\n",
        "            formulae: 1/n*(ytrue==ypred)'''\n",
        "        \n",
        "        b = np.array(self.YTest[:])\n",
        "#         print(\"Count=\",(b==labels).sum())\n",
        "        return np.mean(b==labels)      \n",
        "    \n",
        "    def changeK(self,k):\n",
        "        '''function to do computations with a changed k'''\n",
        "        self.k = k\n",
        "        self.computeDistanceTest()\n",
        "        \n",
        "    \n",
        "    def createConfusionGeneral(self):\n",
        "        '''function to create a confusion matrix 3x3'''\n",
        "        \n",
        "        \n",
        "        def calculate0():\n",
        "            '''function to calculate 0th class row'''\n",
        "            a,b,c = 0,0,0\n",
        "            for x,y in zip(self.labels,testLabel):\n",
        "                \n",
        "                if x==0:\n",
        "                    if y==0:\n",
        "                        a+=1\n",
        "                    elif y==1:\n",
        "                        b+=1\n",
        "                    elif y==2:\n",
        "                        c+=1\n",
        "            return a,b,c\n",
        "        def calculate1():\n",
        "            '''function to calculate 1st class row in the confusion matrix'''\n",
        "            a,b,c = 0,0,0\n",
        "            for x,y in zip(self.labels,testLabel):\n",
        "                if x==1:\n",
        "                    if y==1:\n",
        "                        b+=1\n",
        "                    elif y==0:\n",
        "                        a+=1\n",
        "                    elif y==2:\n",
        "                        c+=1\n",
        "            return a,b,c\n",
        "                \n",
        "            \n",
        "                    \n",
        "        def calculate2():\n",
        "            '''function to calculate the 2nd class row in the confusion matrix'''\n",
        "            a,b,c = 0,0,0\n",
        "            for x,y in zip(self.labels,testLabel):\n",
        "                if x==2:\n",
        "                    if y==0:\n",
        "                        a+=1\n",
        "                    elif y==1:\n",
        "                        b+=1\n",
        "                    elif y==2:\n",
        "                        c+=1\n",
        "            return a,b,c\n",
        "\n",
        "        calc1 = calculate0()\n",
        "#         print(calc1)\n",
        "        calc2 = calculate1()\n",
        "#         print(calc2)\n",
        "        calc3 = calculate2()\n",
        "#         print(calc3)\n",
        "        \n",
        "        confusionMatrix = np.array([np.array(calc1),np.array(calc2),np.array(calc3)])\n",
        "        print(\"Confusion Matrix:\",confusionMatrix)\n",
        "                    \n",
        "                \n",
        "                \n",
        "        \n",
        "    def count(self,i):\n",
        "        '''function to convert the 3x3 confusion matrix into 1 vs other 2x2 confusion matrix'''\n",
        "        \n",
        "        tp=0\n",
        "        tn = 0\n",
        "        fp = 0\n",
        "        fn = 0\n",
        "        \n",
        "       \n",
        "        count = 0\n",
        "        \n",
        "        for x,y in zip(self.labels,testLabel):\n",
        "            \n",
        "            if x==i and y==i:\n",
        "                tp+=1\n",
        "            elif x!=i and y!=i:\n",
        "                tn+=1\n",
        "            elif x==i and y!=i:\n",
        "                fp+=1\n",
        "            elif x!=i and y==i:\n",
        "                fn+=1\n",
        "                \n",
        "            if x==i and y!=i:\n",
        "                fp+=1\n",
        "            elif x!=i and y==i:\n",
        "                fn+=1\n",
        "        return np.array([[tp,fp/2],[fn/2,tn]])\n",
        "    \n",
        "    def macroAvg(self):\n",
        "        \n",
        "        '''function to calculate macrov Avg \n",
        "            precision,recall and f1-score,prininting \n",
        "            confusion matrix and plots as well\n",
        "        '''\n",
        "        \n",
        "       \n",
        "        \n",
        "        alist = np.array(self.count(0))\n",
        "        print(\"Conusion matrix with respect to 0 class\")\n",
        "        print(alist)\n",
        "        \n",
        "        p1 = self.macroP(alist)\n",
        "        r1 = self.macroR(alist)\n",
        "        f11 = self.macroF1(p1,r1)\n",
        "        \n",
        "#         print(\"Macro Precision=\",p1)\n",
        "#         print(\"Macro Recall=\",r1)\n",
        "#         print(\"Macro F1 Score=\",f11)\n",
        "        \n",
        "        print(\"Conusion matrix with respect to 1 class\")\n",
        "        blist = np.array(self.count(1))\n",
        "        print(blist)\n",
        "        p2 = self.macroP(blist)\n",
        "        r2 = self.macroR(blist)\n",
        "        f12 = self.macroF1(p2,r2)\n",
        "#         print(\"Macro Precision=\",p2)\n",
        "#         print(\"Macro Recall=\",r2)\n",
        "#         print(\"Macro F1 Score=\",f12)\n",
        "        \n",
        "        print(\"Conusion matrix with respect to 2 class\")\n",
        "        clist = np.array(self.count(2))\n",
        "        print(clist)\n",
        "        p3 = self.macroP(clist)\n",
        "        r3 = self.macroR(clist)\n",
        "        f13 = self.macroF1(p3,r3)\n",
        "\n",
        "\n",
        "        macroP = (p1+p2+p3)/3\n",
        "        macroR = (r1+r2+r3)/3\n",
        "        macroF1  =(f11+f12+f13)/3\n",
        "        print(\"Macro Precision=\",macroP)\n",
        "        print(\"Macro Recall=\",macroR)\n",
        "        print(\"Macro F1 Score=\",macroF1)\n",
        "        print()\n",
        "        print()\n",
        "        \n",
        "        return macroP,macroR,macroF1\n",
        "       \n",
        "        \n",
        "\n",
        "                \n",
        "    def macroP(self,macroArray):\n",
        "        '''functio to calculate macro average precision'''\n",
        "    \n",
        "        return macroArray[0][0]/(macroArray[0][0]+macroArray[0][1])\n",
        "        \n",
        "    def macroR(self,macroArray):\n",
        "        '''function to calculate macro avg recall'''\n",
        "        return macroArray[0][0]/(macroArray[0][0]+macroArray[1][0])\n",
        "        \n",
        "    def macroF1(self,p,r):\n",
        "        '''function to calculate macro F1 score'''\n",
        "        return 2*p*r/(p+r)\n",
        "    \n",
        "    def calculateAccuracyOverK(self):\n",
        "        '''function to do knn over the asked array in the assignment'''\n",
        "        k = [1,3,5,7,10] #as asked in the assignment \n",
        "        \n",
        "        accuracy = []\n",
        "        p = []\n",
        "        r = []\n",
        "        f1 = []\n",
        "        \n",
        "        for value in k:\n",
        "            self.k = value\n",
        "            result = self.computeDistanceTest()\n",
        "            acc = self.computeAccuracy(result)\n",
        "            accuracy.append(acc)\n",
        "            \n",
        "            pp,rr,ff =self.macroAvg()\n",
        "            p.append(pp)\n",
        "            r.append(rr)\n",
        "            f1.append(ff)\n",
        "        self.plot(accuracy,p,r,f1,k)\n",
        "    def plot(self,accuracy,p,r,f1,k):\n",
        "        '''function to plot the following:\n",
        "            accuracy\n",
        "            macroavg precision\n",
        "            macroavg recall\n",
        "            macro avg f1-score\n",
        "        '''\n",
        "        \n",
        "        \n",
        "        plt.plot(k, accuracy, label = \"Accuracy\") \n",
        "        plt.xlabel('k')\n",
        "        \n",
        "        plt.ylabel(\"Accuracy\")\n",
        "        plt.legend()\n",
        "        plt.show()\n",
        "        \n",
        "       \n",
        "        plt.plot(k,p,label=\"Macro Precision\")\n",
        "        plt.ylabel(\"Precision\")\n",
        "        plt.xlabel('k')\n",
        "        plt.legend()\n",
        "        plt.show()\n",
        "        \n",
        "        \n",
        "        plt.plot(k,r,label=\"Macro Recall\")\n",
        "        plt.ylabel(\"Recall\")\n",
        "        plt.xlabel('k')\n",
        "        plt.legend()\n",
        "        plt.show()\n",
        "        \n",
        "        \n",
        "        plt.plot(k,f1,label=\"Macro F1\")\n",
        "        plt.ylabel(\"F1-Score\")\n",
        "        \n",
        "\n",
        "        plt.xlabel('k')\n",
        "        plt.legend()\n",
        "        plt.show()\n",
        "        \n",
        "#         plt.ylabel('Perfomrance Measures') \n",
        "#         plt.legend() \n",
        "#         plt.show()\n",
        "\n",
        "    def part2(self):\n",
        "        '''function to perform knn using scikit-learn as asked in part2 of the assignment'''\n",
        "        self.result = []\n",
        "        \n",
        "        precision = []\n",
        "        recall = []\n",
        "        f1score = []\n",
        "        accuracy = []\n",
        "        k = [1,3,5,7,10]\n",
        "        for value in k:\n",
        "            print(\"k=\",value)\n",
        "            neigh = KNeighborsClassifier(n_neighbors=value,n_jobs=-1)\n",
        "            neigh.fit(self.XTrain, self.YTrain)\n",
        "\n",
        "            self.result = neigh.predict(self.XTest)\n",
        "            acc = accuracy_score(self.YTest,self.result)\n",
        "            accuracy.append(acc)\n",
        "            print(\"Accuracy is:\",acc)\n",
        "            print()\n",
        "            print(\"Confusion Matrix=\")\n",
        "            print(confusion_matrix(self.YTest,self.result))\n",
        "\n",
        "            print(classification_report(self.YTest,self.result))\n",
        "\n",
        "            self.classificationDict = classification_report(self.YTest,self.result,output_dict=True)\n",
        "\n",
        "            p = self.classificationDict[\"macro avg\"][\"precision\"]\n",
        "            r = self.classificationDict[\"macro avg\"][\"recall\"]\n",
        "            f1 = self.classificationDict[\"macro avg\"][\"f1-score\"]\n",
        "\n",
        "            precision.append(p)\n",
        "            recall.append(r)\n",
        "            f1score.append(f1)\n",
        "            \n",
        "            print()\n",
        "            print()\n",
        "        self.plot(accuracy,precision,recall,f1score,k)\n",
        "        \n",
        "        \n",
        "        \n",
        "        \n",
        "        \n",
        "        \n",
        "            \n",
        "        \n",
        "        "
      ],
      "execution_count": 27,
      "outputs": []
    },
    {
      "cell_type": "code",
      "metadata": {
        "id": "ZYTR4PZTVLn5"
      },
      "source": [
        "#declaring a class instance\n",
        "knn = KNN(trainBOWArray,trainLabel,testBOWArray,testLabel,labelDict,k=1,isDone=False)"
      ],
      "execution_count": 28,
      "outputs": []
    },
    {
      "cell_type": "code",
      "metadata": {
        "id": "Dp1T4SQXVLn9",
        "outputId": "2c1b8811-68e4-48cc-9050-c7d645e2c051",
        "colab": {
          "base_uri": "https://localhost:8080/",
          "height": 1000
        }
      },
      "source": [
        "#calculating over the k=[1,3,5,7,10] as asked in 1st part\n",
        "knn.calculateAccuracyOverK()"
      ],
      "execution_count": 29,
      "outputs": [
        {
          "output_type": "stream",
          "text": [
            "For k= 1\n",
            "Accuracy: 0.5282824820020569\n",
            "Confusion Matrix: [[384 174 739]\n",
            " [ 74 239 176]\n",
            " [155  58 918]]\n",
            "Conusion matrix with respect to 0 class\n",
            "[[ 384.  913.]\n",
            " [ 229. 1391.]]\n",
            "Conusion matrix with respect to 1 class\n",
            "[[ 239.  250.]\n",
            " [ 232. 2196.]]\n",
            "Conusion matrix with respect to 2 class\n",
            "[[918. 213.]\n",
            " [915. 871.]]\n",
            "Macro Precision= 0.5321638308841369\n",
            "Macro Recall= 0.5448922448938146\n",
            "Macro F1 Score= 0.50648136862831\n",
            "\n",
            "\n",
            "For k= 3\n",
            "Accuracy: 0.517997943092218\n",
            "Confusion Matrix: [[435 155 877]\n",
            " [ 78 258 138]\n",
            " [100  58 818]]\n",
            "Conusion matrix with respect to 0 class\n",
            "[[ 435. 1032.]\n",
            " [ 178. 1272.]]\n",
            "Conusion matrix with respect to 1 class\n",
            "[[ 258.  216.]\n",
            " [ 213. 2230.]]\n",
            "Conusion matrix with respect to 2 class\n",
            "[[ 818.  158.]\n",
            " [1015.  926.]]\n",
            "Macro Precision= 0.5596473563163761\n",
            "Macro Recall= 0.5678861512076755\n",
            "Macro F1 Score= 0.5155715490487651\n",
            "\n",
            "\n",
            "For k= 5\n",
            "Accuracy: 0.5176551251285567\n",
            "Confusion Matrix: [[491 175 955]\n",
            " [ 62 252 111]\n",
            " [ 60  44 767]]\n",
            "Conusion matrix with respect to 0 class\n",
            "[[ 491. 1130.]\n",
            " [ 122. 1174.]]\n",
            "Conusion matrix with respect to 1 class\n",
            "[[ 252.  173.]\n",
            " [ 219. 2273.]]\n",
            "Conusion matrix with respect to 2 class\n",
            "[[ 767.  104.]\n",
            " [1066.  980.]]\n",
            "Macro Precision= 0.59214587872771\n",
            "Macro Recall= 0.5848167854226669\n",
            "Macro F1 Score= 0.523125989945596\n",
            "\n",
            "\n",
            "For k= 7\n",
            "Accuracy: 0.4981145011998629\n",
            "Confusion Matrix: [[ 499  194 1010]\n",
            " [  51  239  108]\n",
            " [  63   38  715]]\n",
            "Conusion matrix with respect to 0 class\n",
            "[[ 499. 1204.]\n",
            " [ 114. 1100.]]\n",
            "Conusion matrix with respect to 1 class\n",
            "[[ 239.  159.]\n",
            " [ 232. 2287.]]\n",
            "Conusion matrix with respect to 2 class\n",
            "[[ 715.  101.]\n",
            " [1118.  983.]]\n",
            "Macro Precision= 0.5899134446463875\n",
            "Macro Recall= 0.5705104278824463\n",
            "Macro F1 Score= 0.5069330860983542\n",
            "\n",
            "\n",
            "For k= 10\n",
            "Accuracy: 0.48405896468974974\n",
            "Confusion Matrix: [[ 506  193 1067]\n",
            " [  54  244  104]\n",
            " [  53   34  662]]\n",
            "Conusion matrix with respect to 0 class\n",
            "[[ 506. 1260.]\n",
            " [ 107. 1044.]]\n",
            "Conusion matrix with respect to 1 class\n",
            "[[ 244.  158.]\n",
            " [ 227. 2288.]]\n",
            "Conusion matrix with respect to 2 class\n",
            "[[ 662.   87.]\n",
            " [1171.  997.]]\n",
            "Macro Precision= 0.592444505757725\n",
            "Macro Recall= 0.568217298809626\n",
            "Macro F1 Score= 0.4990538635296804\n",
            "\n",
            "\n"
          ],
          "name": "stdout"
        },
        {
          "output_type": "display_data",
          "data": {
            "image/png": "[encoded data removed]",
            "text/plain": [
              "<Figure size 432x288 with 1 Axes>"
            ]
          },
          "metadata": {
            "tags": [],
            "needs_background": "light"
          }
        },
        {
          "output_type": "display_data",
          "data": {
            "image/png": "[encoded data removed]",
            "text/plain": [
              "<Figure size 432x288 with 1 Axes>"
            ]
          },
          "metadata": {
            "tags": [],
            "needs_background": "light"
          }
        },
        {
          "output_type": "display_data",
          "data": {
            "image/png": "[encoded data removed]",
            "text/plain": [
              "<Figure size 432x288 with 1 Axes>"
            ]
          },
          "metadata": {
            "tags": [],
            "needs_background": "light"
          }
        },
        {
          "output_type": "display_data",
          "data": {
            "image/png": "[encoded data removed]",
            "text/plain": [
              "<Figure size 432x288 with 1 Axes>"
            ]
          },
          "metadata": {
            "tags": [],
            "needs_background": "light"
          }
        }
      ]
    },
    {
      "cell_type": "markdown",
      "metadata": {
        "id": "VWGdEmjB_ieD"
      },
      "source": [
        "### Part 2"
      ]
    },
    {
      "cell_type": "code",
      "metadata": {
        "id": "LGZ5zu8kVLoB",
        "outputId": "9c0537a1-0d7f-4edb-8b14-854b74881c70",
        "colab": {
          "base_uri": "https://localhost:8080/",
          "height": 1000
        }
      },
      "source": [
        "#function to perform the same computation as in part1 using scikit learn\n",
        "knn.part2()"
      ],
      "execution_count": 30,
      "outputs": [
        {
          "output_type": "stream",
          "text": [
            "k= 1\n",
            "Accuracy is: 0.5395954748028796\n",
            "\n",
            "Confusion Matrix=\n",
            "[[394  84 135]\n",
            " [143 263  65]\n",
            " [746 170 917]]\n",
            "              precision    recall  f1-score   support\n",
            "\n",
            "           0       0.31      0.64      0.42       613\n",
            "           1       0.51      0.56      0.53       471\n",
            "           2       0.82      0.50      0.62      1833\n",
            "\n",
            "    accuracy                           0.54      2917\n",
            "   macro avg       0.55      0.57      0.52      2917\n",
            "weighted avg       0.66      0.54      0.56      2917\n",
            "\n",
            "\n",
            "\n",
            "k= 3\n",
            "Accuracy is: 0.5011998628728145\n",
            "\n",
            "Confusion Matrix=\n",
            "[[487  56  70]\n",
            " [202 229  40]\n",
            " [983 104 746]]\n",
            "              precision    recall  f1-score   support\n",
            "\n",
            "           0       0.29      0.79      0.43       613\n",
            "           1       0.59      0.49      0.53       471\n",
            "           2       0.87      0.41      0.55      1833\n",
            "\n",
            "    accuracy                           0.50      2917\n",
            "   macro avg       0.58      0.56      0.50      2917\n",
            "weighted avg       0.70      0.50      0.52      2917\n",
            "\n",
            "\n",
            "\n",
            "k= 5\n",
            "Accuracy is: 0.4809736030167981\n",
            "\n",
            "Confusion Matrix=\n",
            "[[ 508   50   55]\n",
            " [ 215  227   29]\n",
            " [1067   98  668]]\n",
            "              precision    recall  f1-score   support\n",
            "\n",
            "           0       0.28      0.83      0.42       613\n",
            "           1       0.61      0.48      0.54       471\n",
            "           2       0.89      0.36      0.52      1833\n",
            "\n",
            "    accuracy                           0.48      2917\n",
            "   macro avg       0.59      0.56      0.49      2917\n",
            "weighted avg       0.72      0.48      0.50      2917\n",
            "\n",
            "\n",
            "\n",
            "k= 7\n",
            "Accuracy is: 0.46486115872471717\n",
            "\n",
            "Confusion Matrix=\n",
            "[[ 518   50   45]\n",
            " [ 212  228   31]\n",
            " [1130   93  610]]\n",
            "              precision    recall  f1-score   support\n",
            "\n",
            "           0       0.28      0.85      0.42       613\n",
            "           1       0.61      0.48      0.54       471\n",
            "           2       0.89      0.33      0.48      1833\n",
            "\n",
            "    accuracy                           0.46      2917\n",
            "   macro avg       0.59      0.55      0.48      2917\n",
            "weighted avg       0.72      0.46      0.48      2917\n",
            "\n",
            "\n",
            "\n",
            "k= 10\n",
            "Accuracy is: 0.43400754199520053\n",
            "\n",
            "Confusion Matrix=\n",
            "[[ 539   48   26]\n",
            " [ 223  224   24]\n",
            " [1235   95  503]]\n",
            "              precision    recall  f1-score   support\n",
            "\n",
            "           0       0.27      0.88      0.41       613\n",
            "           1       0.61      0.48      0.53       471\n",
            "           2       0.91      0.27      0.42      1833\n",
            "\n",
            "    accuracy                           0.43      2917\n",
            "   macro avg       0.60      0.54      0.46      2917\n",
            "weighted avg       0.73      0.43      0.44      2917\n",
            "\n",
            "\n",
            "\n"
          ],
          "name": "stdout"
        },
        {
          "output_type": "display_data",
          "data": {
            "image/png": "[encoded data removed]",
            "text/plain": [
              "<Figure size 432x288 with 1 Axes>"
            ]
          },
          "metadata": {
            "tags": [],
            "needs_background": "light"
          }
        },
        {
          "output_type": "display_data",
          "data": {
            "image/png": "[encoded data removed]",
            "text/plain": [
              "<Figure size 432x288 with 1 Axes>"
            ]
          },
          "metadata": {
            "tags": [],
            "needs_background": "light"
          }
        },
        {
          "output_type": "display_data",
          "data": {
            "image/png": "[encoded data removed]",
            "text/plain": [
              "<Figure size 432x288 with 1 Axes>"
            ]
          },
          "metadata": {
            "tags": [],
            "needs_background": "light"
          }
        },
        {
          "output_type": "display_data",
          "data": {
            "image/png": "[encoded data removed]",
            "text/plain": [
              "<Figure size 432x288 with 1 Axes>"
            ]
          },
          "metadata": {
            "tags": [],
            "needs_background": "light"
          }
        }
      ]
    },
    {
      "cell_type": "markdown",
      "metadata": {
        "id": "jcMoySv77p2t"
      },
      "source": [
        "### Part3"
      ]
    },
    {
      "cell_type": "code",
      "metadata": {
        "id": "s29mEoY8VLoF"
      },
      "source": [
        "### preparing dataset for part 3 \n",
        "\n",
        "##Extract features function\n",
        "##Function copied from TA provided snipped from the A1 PDF Link and modified that if some text is not found completely then return with 0 vector of size 300\n",
        "def extract_features(text,i):\n",
        "  try:\n",
        "    words = [word for word in text.split() if word in word2vec.vocab]\n",
        "    result = np.mean(word2vec[words], axis=0)\n",
        "    \n",
        "  except:\n",
        "    result = np.zeros((300,))\n",
        "\n",
        "  return result"
      ],
      "execution_count": 31,
      "outputs": []
    },
    {
      "cell_type": "code",
      "metadata": {
        "id": "SzXTZpqCfmsH"
      },
      "source": [
        "#Function to convert text into embeedings \n",
        "\n",
        "def createTrainingTestingEmbeedings():\n",
        "  trainEmbeedings = []\n",
        "  testEmbeedings = []\n",
        "  for i,data in enumerate(trainSet['Tweet']):\n",
        "    \n",
        "    emb = extract_features(data,i)\n",
        "    trainEmbeedings.append(emb)\n",
        "  # print(\"Testing data\")\n",
        "  for i,data in enumerate(testSet['Tweet']):\n",
        "    emb = extract_features(data,i)\n",
        "    testEmbeedings.append(emb)\n",
        "\n",
        "  return trainEmbeedings,testEmbeedings\n",
        "\n"
      ],
      "execution_count": 32,
      "outputs": []
    },
    {
      "cell_type": "code",
      "metadata": {
        "id": "bglBgEN3fr_8",
        "outputId": "8077f335-5fa7-4bd0-825a-adbb71041aa4",
        "colab": {
          "base_uri": "https://localhost:8080/",
          "height": 34
        }
      },
      "source": [
        "#getting embeedings of training and testing data\n",
        "Xtrain,Xtest = createTrainingTestingEmbeedings()"
      ],
      "execution_count": 33,
      "outputs": [
        {
          "output_type": "stream",
          "text": [
            "Testing data\n"
          ],
          "name": "stdout"
        }
      ]
    },
    {
      "cell_type": "code",
      "metadata": {
        "id": "yIpiUoe8iTn9"
      },
      "source": [
        "#Instantiating a class object with embeedings data\n",
        "newKnn = KNN(Xtrain,trainLabel,Xtest,testLabel,labelDict,k=1,isDone=False)"
      ],
      "execution_count": 34,
      "outputs": []
    },
    {
      "cell_type": "code",
      "metadata": {
        "id": "x66oo3Dhj3a4",
        "outputId": "d3b6386f-5bbc-4c3b-91be-98a30f9d25e5",
        "colab": {
          "base_uri": "https://localhost:8080/",
          "height": 1000
        }
      },
      "source": [
        "#Running knn on my own implementation\n",
        "newKnn.calculateAccuracyOverK()"
      ],
      "execution_count": 35,
      "outputs": [
        {
          "output_type": "stream",
          "text": [
            "For k= 1\n",
            "Accuracy: 0.7096331847788824\n",
            "Confusion Matrix: [[ 242   67  146]\n",
            " [  81  257  116]\n",
            " [ 290  147 1571]]\n",
            "Conusion matrix with respect to 0 class\n",
            "[[ 242.  213.]\n",
            " [ 371. 2091.]]\n",
            "Conusion matrix with respect to 1 class\n",
            "[[ 257.  197.]\n",
            " [ 214. 2249.]]\n",
            "Conusion matrix with respect to 2 class\n",
            "[[1571.  437.]\n",
            " [ 262.  647.]]\n",
            "Macro Precision= 0.626772648316868\n",
            "Macro Recall= 0.5991640836320428\n",
            "Macro F1 Score= 0.6089584459682368\n",
            "\n",
            "\n",
            "For k= 3\n",
            "Accuracy: 0.7329448063078505\n",
            "Confusion Matrix: [[ 208   44  106]\n",
            " [  65  264   61]\n",
            " [ 340  163 1666]]\n",
            "Conusion matrix with respect to 0 class\n",
            "[[ 208.  150.]\n",
            " [ 405. 2154.]]\n",
            "Conusion matrix with respect to 1 class\n",
            "[[ 264.  126.]\n",
            " [ 207. 2320.]]\n",
            "Conusion matrix with respect to 2 class\n",
            "[[1666.  503.]\n",
            " [ 167.  581.]]\n",
            "Macro Precision= 0.6753415200806193\n",
            "Macro Recall= 0.6029056416927999\n",
            "Macro F1 Score= 0.6247494770349217\n",
            "\n",
            "\n",
            "For k= 5\n",
            "Accuracy: 0.7377442577991087\n",
            "Confusion Matrix: [[ 156   29   63]\n",
            " [  68  262   36]\n",
            " [ 389  180 1734]]\n",
            "Conusion matrix with respect to 0 class\n",
            "[[ 156.   92.]\n",
            " [ 457. 2212.]]\n",
            "Conusion matrix with respect to 1 class\n",
            "[[ 262.  104.]\n",
            " [ 209. 2342.]]\n",
            "Conusion matrix with respect to 2 class\n",
            "[[1734.  569.]\n",
            " [  99.  515.]]\n",
            "Macro Precision= 0.6992700707393084\n",
            "Macro Recall= 0.5855798611467171\n",
            "Macro F1 Score= 0.608968678052049\n",
            "\n",
            "\n",
            "For k= 7\n",
            "Accuracy: 0.7432293452176894\n",
            "Confusion Matrix: [[ 144   21   39]\n",
            " [  53  252   22]\n",
            " [ 416  198 1772]]\n",
            "Conusion matrix with respect to 0 class\n",
            "[[ 144.   60.]\n",
            " [ 469. 2244.]]\n",
            "Conusion matrix with respect to 1 class\n",
            "[[ 252.   75.]\n",
            " [ 219. 2371.]]\n",
            "Conusion matrix with respect to 2 class\n",
            "[[1772.  614.]\n",
            " [  61.  470.]]\n",
            "Macro Precision= 0.7397300346040274\n",
            "Macro Recall= 0.578887782166254\n",
            "Macro F1 Score= 0.6080325360715436\n",
            "\n",
            "\n",
            "For k= 10\n",
            "Accuracy: 0.7374014398354474\n",
            "Confusion Matrix: [[ 133   25   30]\n",
            " [  48  235   20]\n",
            " [ 432  211 1783]]\n",
            "Conusion matrix with respect to 0 class\n",
            "[[ 133.   55.]\n",
            " [ 480. 2249.]]\n",
            "Conusion matrix with respect to 1 class\n",
            "[[ 235.   68.]\n",
            " [ 236. 2378.]]\n",
            "Conusion matrix with respect to 2 class\n",
            "[[1783.  643.]\n",
            " [  50.  441.]]\n",
            "Macro Precision= 0.7393263413798187\n",
            "Macro Recall= 0.5628754947579344\n",
            "Macro F1 Score= 0.5922019279432128\n",
            "\n",
            "\n"
          ],
          "name": "stdout"
        },
        {
          "output_type": "display_data",
          "data": {
            "image/png": "[encoded data removed]",
            "text/plain": [
              "<Figure size 432x288 with 1 Axes>"
            ]
          },
          "metadata": {
            "tags": [],
            "needs_background": "light"
          }
        },
        {
          "output_type": "display_data",
          "data": {
            "image/png": "[encoded data removed]",
            "text/plain": [
              "<Figure size 432x288 with 1 Axes>"
            ]
          },
          "metadata": {
            "tags": [],
            "needs_background": "light"
          }
        },
        {
          "output_type": "display_data",
          "data": {
            "image/png": "[encoded data removed]",
            "text/plain": [
              "<Figure size 432x288 with 1 Axes>"
            ]
          },
          "metadata": {
            "tags": [],
            "needs_background": "light"
          }
        },
        {
          "output_type": "display_data",
          "data": {
            "image/png": "[encoded data removed]",
            "text/plain": [
              "<Figure size 432x288 with 1 Axes>"
            ]
          },
          "metadata": {
            "tags": [],
            "needs_background": "light"
          }
        }
      ]
    },
    {
      "cell_type": "code",
      "metadata": {
        "id": "ccYSDman7ZJs",
        "outputId": "d1c6ed25-f8e8-4c1c-c9f4-578713f0e390",
        "colab": {
          "base_uri": "https://localhost:8080/",
          "height": 1000
        }
      },
      "source": [
        "#Running knn on SCIKIT Learn implementation\n",
        "newKnn.part2()"
      ],
      "execution_count": 36,
      "outputs": [
        {
          "output_type": "stream",
          "text": [
            "k= 1\n",
            "Accuracy is: 0.7062050051422695\n",
            "\n",
            "Confusion Matrix=\n",
            "[[ 235   91  287]\n",
            " [  67  257  147]\n",
            " [ 147  118 1568]]\n",
            "              precision    recall  f1-score   support\n",
            "\n",
            "           0       0.52      0.38      0.44       613\n",
            "           1       0.55      0.55      0.55       471\n",
            "           2       0.78      0.86      0.82      1833\n",
            "\n",
            "    accuracy                           0.71      2917\n",
            "   macro avg       0.62      0.59      0.60      2917\n",
            "weighted avg       0.69      0.71      0.70      2917\n",
            "\n",
            "\n",
            "\n",
            "k= 3\n",
            "Accuracy is: 0.7339732601988345\n",
            "\n",
            "Confusion Matrix=\n",
            "[[ 234   58  321]\n",
            " [  61  255  155]\n",
            " [ 132   49 1652]]\n",
            "              precision    recall  f1-score   support\n",
            "\n",
            "           0       0.55      0.38      0.45       613\n",
            "           1       0.70      0.54      0.61       471\n",
            "           2       0.78      0.90      0.83      1833\n",
            "\n",
            "    accuracy                           0.73      2917\n",
            "   macro avg       0.68      0.61      0.63      2917\n",
            "weighted avg       0.72      0.73      0.72      2917\n",
            "\n",
            "\n",
            "\n",
            "k= 5\n",
            "Accuracy is: 0.7367158039081247\n",
            "\n",
            "Confusion Matrix=\n",
            "[[ 173   68  372]\n",
            " [  42  263  166]\n",
            " [  80   40 1713]]\n",
            "              precision    recall  f1-score   support\n",
            "\n",
            "           0       0.59      0.28      0.38       613\n",
            "           1       0.71      0.56      0.62       471\n",
            "           2       0.76      0.93      0.84      1833\n",
            "\n",
            "    accuracy                           0.74      2917\n",
            "   macro avg       0.69      0.59      0.61      2917\n",
            "weighted avg       0.72      0.74      0.71      2917\n",
            "\n",
            "\n",
            "\n",
            "k= 7\n",
            "Accuracy is: 0.7490572505999314\n",
            "\n",
            "Confusion Matrix=\n",
            "[[ 161   55  397]\n",
            " [  25  262  184]\n",
            " [  47   24 1762]]\n",
            "              precision    recall  f1-score   support\n",
            "\n",
            "           0       0.69      0.26      0.38       613\n",
            "           1       0.77      0.56      0.65       471\n",
            "           2       0.75      0.96      0.84      1833\n",
            "\n",
            "    accuracy                           0.75      2917\n",
            "   macro avg       0.74      0.59      0.62      2917\n",
            "weighted avg       0.74      0.75      0.71      2917\n",
            "\n",
            "\n",
            "\n",
            "k= 10\n",
            "Accuracy is: 0.7425437092903668\n",
            "\n",
            "Confusion Matrix=\n",
            "[[ 145   53  415]\n",
            " [  33  246  192]\n",
            " [  37   21 1775]]\n",
            "              precision    recall  f1-score   support\n",
            "\n",
            "           0       0.67      0.24      0.35       613\n",
            "           1       0.77      0.52      0.62       471\n",
            "           2       0.75      0.97      0.84      1833\n",
            "\n",
            "    accuracy                           0.74      2917\n",
            "   macro avg       0.73      0.58      0.60      2917\n",
            "weighted avg       0.73      0.74      0.70      2917\n",
            "\n",
            "\n",
            "\n"
          ],
          "name": "stdout"
        },
        {
          "output_type": "display_data",
          "data": {
            "image/png": "[encoded data removed]",
            "text/plain": [
              "<Figure size 432x288 with 1 Axes>"
            ]
          },
          "metadata": {
            "tags": [],
            "needs_background": "light"
          }
        },
        {
          "output_type": "display_data",
          "data": {
            "image/png": "[encoded data removed]",
            "text/plain": [
              "<Figure size 432x288 with 1 Axes>"
            ]
          },
          "metadata": {
            "tags": [],
            "needs_background": "light"
          }
        },
        {
          "output_type": "display_data",
          "data": {
            "image/png": "[encoded data removed]",
            "text/plain": [
              "<Figure size 432x288 with 1 Axes>"
            ]
          },
          "metadata": {
            "tags": [],
            "needs_background": "light"
          }
        },
        {
          "output_type": "display_data",
          "data": {
            "image/png": "[encoded data removed]",
            "text/plain": [
              "<Figure size 432x288 with 1 Axes>"
            ]
          },
          "metadata": {
            "tags": [],
            "needs_background": "light"
          }
        }
      ]
    },
    {
      "cell_type": "code",
      "metadata": {
        "id": "p1qPVbo57lC0"
      },
      "source": [
        ""
      ],
      "execution_count": 36,
      "outputs": []
    }
  ]
}